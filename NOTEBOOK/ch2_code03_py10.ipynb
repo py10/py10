{
  "nbformat": 4,
  "nbformat_minor": 0,
  "metadata": {
    "colab": {
      "name": "ch2_code03_py10.ipynb",
      "provenance": [],
      "collapsed_sections": [],
      "include_colab_link": true
    },
    "kernelspec": {
      "display_name": "Python 3",
      "language": "python",
      "name": "python3"
    },
    "language_info": {
      "codemirror_mode": {
        "name": "ipython",
        "version": 3
      },
      "file_extension": ".py",
      "mimetype": "text/x-python",
      "name": "python",
      "nbconvert_exporter": "python",
      "pygments_lexer": "ipython3",
      "version": "3.7.5"
    }
  },
  "cells": [
    {
      "cell_type": "markdown",
      "metadata": {
        "id": "view-in-github",
        "colab_type": "text"
      },
      "source": [
        "<a href=\"https://colab.research.google.com/github/py10/py10/blob/master/NOTEBOOK/ch2_code03_py10.ipynb\" target=\"_parent\"><img src=\"https://colab.research.google.com/assets/colab-badge.svg\" alt=\"Open In Colab\"/></a>"
      ]
    },
    {
      "cell_type": "markdown",
      "metadata": {
        "colab_type": "text",
        "id": "H4jNE-BMAK3f"
      },
      "source": [
        "# ch2_code03.ipynb\n",
        "## py10\n",
        "- Dictionary\n",
        "- Set\n",
        "- Bool\n",
        "- Variable"
      ]
    },
    {
      "cell_type": "code",
      "metadata": {
        "id": "1gi2i2cwk2W1",
        "colab_type": "code",
        "outputId": "aa727674-c017-4f54-f735-2099a732d0ed",
        "colab": {
          "base_uri": "https://localhost:8080/",
          "height": 53
        }
      },
      "source": [
        "# ch2_07_dictionary.py\n",
        "\n",
        "print(\"딕셔너리: 딕셔너리(Dictionary)란?\")\n",
        "# 딕셔너리란 대응 관계를 나타내는 자료형.\n",
        "# 연관 배열(Associative array) 또는 해시(Hash)\n",
        "# 딕셔너리는 Key와 Value를 한 쌍으로 갖는 자료형\n",
        "#\n",
        "# 기본 딕셔너리의 모습\n",
        "# {Key1:Value1, Key2:Value2, Key3:Value3, ...}\n",
        "# Key와 Value의 쌍 여러 개가 { }로 둘러싸여 있다.\n",
        "# 각각의 요소는 Key : Value 형태로 이루어져 있고 쉼표(,)로 구분\n",
        "dic = {\"name\": \"pey\", \"phone\": \"0119993323\", \"birth\": \"1118\"}\n",
        "dic\n",
        "# Key는 각각 'name', 'phone', 'birth'\n",
        "# 각 Key에 해당하는 Value는 'pey', '0119993323', '1118'"
      ],
      "execution_count": 0,
      "outputs": [
        {
          "output_type": "stream",
          "text": [
            "딕셔너리: 딕셔너리(Dictionary)란?\n"
          ],
          "name": "stdout"
        },
        {
          "output_type": "execute_result",
          "data": {
            "text/plain": [
              "{'birth': '1118', 'name': 'pey', 'phone': '0119993323'}"
            ]
          },
          "metadata": {
            "tags": []
          },
          "execution_count": 2
        }
      ]
    },
    {
      "cell_type": "markdown",
      "metadata": {
        "id": "z71BMYYFlJmn",
        "colab_type": "text"
      },
      "source": [
        "###여러가지딕셔너리"
      ]
    },
    {
      "cell_type": "code",
      "metadata": {
        "id": "UCAiZKy6k_cn",
        "colab_type": "code",
        "outputId": "2a3e4d08-59fe-4b91-dc08-6d0aad677b1b",
        "colab": {
          "base_uri": "https://localhost:8080/",
          "height": 35
        }
      },
      "source": [
        "# 여러 가지 딕셔너리\n",
        "a = {1: \"hi\"}\n",
        "a[1]"
      ],
      "execution_count": 0,
      "outputs": [
        {
          "output_type": "execute_result",
          "data": {
            "text/plain": [
              "'hi'"
            ]
          },
          "metadata": {
            "tags": []
          },
          "execution_count": 3
        }
      ]
    },
    {
      "cell_type": "code",
      "metadata": {
        "id": "I9p72nm9lSAe",
        "colab_type": "code",
        "outputId": "4cd15e40-0296-4d15-b5c2-55235714b082",
        "colab": {
          "base_uri": "https://localhost:8080/",
          "height": 35
        }
      },
      "source": [
        "a = {\"a\": [1, 2, 3]}  # value에는 복합 자료형도 사용된다.\n",
        "len(a)\n",
        "# a[a]  # TypeError\n",
        "# a[\"a\"]"
      ],
      "execution_count": 0,
      "outputs": [
        {
          "output_type": "execute_result",
          "data": {
            "text/plain": [
              "1"
            ]
          },
          "metadata": {
            "tags": []
          },
          "execution_count": 4
        }
      ]
    },
    {
      "cell_type": "code",
      "metadata": {
        "id": "AiBSXYRolW-g",
        "colab_type": "code",
        "outputId": "3b9e4080-f3e1-4a55-92d1-839b19056cef",
        "colab": {
          "base_uri": "https://localhost:8080/",
          "height": 35
        }
      },
      "source": [
        "#\n",
        "# 딕셔너리 쌍 추가하기\n",
        "#\n",
        "a = {1: \"a\"}\n",
        "a[2] = \"b\"\n",
        "a[\"name\"] = \"pey\"\n",
        "a\n",
        "# a[3] = [1, 2, 3]\n",
        "# a"
      ],
      "execution_count": 0,
      "outputs": [
        {
          "output_type": "execute_result",
          "data": {
            "text/plain": [
              "{1: 'a', 2: 'b', 'name': 'pey'}"
            ]
          },
          "metadata": {
            "tags": []
          },
          "execution_count": 5
        }
      ]
    },
    {
      "cell_type": "code",
      "metadata": {
        "id": "SSwr5eQSl3ec",
        "colab_type": "code",
        "outputId": "0ed45639-52b3-4207-a523-261b14c3821b",
        "colab": {
          "base_uri": "https://localhost:8080/",
          "height": 35
        }
      },
      "source": [
        "\n",
        "#\n",
        "# 딕셔너리 쌍 삭제하기\n",
        "#\n",
        "del a[1] \n",
        "a"
      ],
      "execution_count": 0,
      "outputs": [
        {
          "output_type": "execute_result",
          "data": {
            "text/plain": [
              "{2: 'b', 'name': 'pey'}"
            ]
          },
          "metadata": {
            "tags": []
          },
          "execution_count": 6
        }
      ]
    },
    {
      "cell_type": "code",
      "metadata": {
        "id": "UbsGSpjHmL_W",
        "colab_type": "code",
        "outputId": "a6152b43-fb89-4ed8-cbc6-1b59907e56c0",
        "colab": {
          "base_uri": "https://localhost:8080/",
          "height": 53
        }
      },
      "source": [
        "#\n",
        "print(\"딕셔너리: 사용 방법\")\n",
        "d = {\"김연아\": \"피겨스케이팅\", \"류현진\": \"야구\", \"손흥민\": \"축구\", \"귀도\": \"파이썬\"}\n",
        "d\n",
        "d[\"손흥민\"]"
      ],
      "execution_count": 0,
      "outputs": [
        {
          "output_type": "stream",
          "text": [
            "딕셔너리: 사용 방법\n"
          ],
          "name": "stdout"
        },
        {
          "output_type": "execute_result",
          "data": {
            "text/plain": [
              "'축구'"
            ]
          },
          "metadata": {
            "tags": []
          },
          "execution_count": 7
        }
      ]
    },
    {
      "cell_type": "code",
      "metadata": {
        "id": "EcXra3Y0mbJt",
        "colab_type": "code",
        "outputId": "8aeddf74-08b7-435a-b025-4035d2c2fe11",
        "colab": {
          "base_uri": "https://localhost:8080/",
          "height": 35
        }
      },
      "source": [
        "\n",
        "#\n",
        "# 딕셔너리에서 Key 사용해 Value 얻기\n",
        "#\n",
        "grade = {\"pey\": 10, \"julliet\": 99}\n",
        "grade[\"pey\"]\n",
        "grade[\"julliet\"]"
      ],
      "execution_count": 0,
      "outputs": [
        {
          "output_type": "execute_result",
          "data": {
            "text/plain": [
              "99"
            ]
          },
          "metadata": {
            "tags": []
          },
          "execution_count": 8
        }
      ]
    },
    {
      "cell_type": "code",
      "metadata": {
        "id": "C56mEzpYmeKU",
        "colab_type": "code",
        "colab": {}
      },
      "source": [
        "\n",
        "#\n",
        "a = {1: \"a\", 2: \"b\"}\n",
        "a[1]  # 1은 key\n",
        "#\n",
        "a = {\"a\": 1, \"b\": 2}\n",
        "a[\"b\"]\n",
        "a[b]  # TypeError"
      ],
      "execution_count": 0,
      "outputs": []
    },
    {
      "cell_type": "code",
      "metadata": {
        "id": "k34r1wRvmgWY",
        "colab_type": "code",
        "outputId": "df30a8cd-448a-4a18-950f-af29a0c29aa8",
        "colab": {
          "base_uri": "https://localhost:8080/",
          "height": 35
        }
      },
      "source": [
        "#\n",
        "dic = {\"name\": \"pey\", \"phone\": \"0109993323\", \"birth\": \"1118\"}\n",
        "dic[\"birth\"]\n",
        "dic[\"phone\"]\n",
        "#\n",
        "# 딕셔너리 만들 때 주의할 사항\n",
        "# 딕셔너리에서 Key는 고유한 값이므로 중복되는 Key 값을 설정해 놓으면\n",
        "# 하나를 제외한 나머지 것들이 모두 무시된다\n",
        "#\n",
        "a = {1: \"a\", 1: \"b\"}\n",
        "a[1]"
      ],
      "execution_count": 0,
      "outputs": [
        {
          "output_type": "execute_result",
          "data": {
            "text/plain": [
              "'b'"
            ]
          },
          "metadata": {
            "tags": []
          },
          "execution_count": 9
        }
      ]
    },
    {
      "cell_type": "code",
      "metadata": {
        "id": "50W7zZfOmjWr",
        "colab_type": "code",
        "outputId": "ab7b1a1c-8c36-4873-c348-ed026f94ad4b",
        "colab": {
          "base_uri": "https://localhost:8080/",
          "height": 53
        }
      },
      "source": [
        "#\n",
        "print(\"딕셔너리: 관련 내장 함수들\")\n",
        "#\n",
        "# Key 리스트 만들기(keys)\n",
        "#\n",
        "a = {\"name\": \"pey\", \"phone\": \"0119993323\", \"birth\": \"1118\"}\n",
        "a.keys()\n",
        "list(a.keys())\n",
        "#################################################\n",
        "# 기본적인 반복(iterate) 구문(예: for문)을 실행\n",
        "#################################################\n",
        "# for k in a.keys():\n",
        "#     print(k)"
      ],
      "execution_count": 0,
      "outputs": [
        {
          "output_type": "stream",
          "text": [
            "딕셔너리: 관련 내장 함수들\n"
          ],
          "name": "stdout"
        },
        {
          "output_type": "execute_result",
          "data": {
            "text/plain": [
              "['name', 'phone', 'birth']"
            ]
          },
          "metadata": {
            "tags": []
          },
          "execution_count": 11
        }
      ]
    },
    {
      "cell_type": "code",
      "metadata": {
        "id": "EMA4QG4lmumC",
        "colab_type": "code",
        "outputId": "e03f791a-ccde-46db-b86e-6a9dcb9f0c2d",
        "colab": {
          "base_uri": "https://localhost:8080/",
          "height": 35
        }
      },
      "source": [
        "#\n",
        "# Value 리스트 만들기(values)\n",
        "#\n",
        "a.values()"
      ],
      "execution_count": 0,
      "outputs": [
        {
          "output_type": "execute_result",
          "data": {
            "text/plain": [
              "dict_values(['pey', '0119993323', '1118'])"
            ]
          },
          "metadata": {
            "tags": []
          },
          "execution_count": 12
        }
      ]
    },
    {
      "cell_type": "code",
      "metadata": {
        "id": "ExlRgZ51mzT1",
        "colab_type": "code",
        "outputId": "417962a7-e7b7-41ae-db67-ee2e595f7f2b",
        "colab": {
          "base_uri": "https://localhost:8080/",
          "height": 35
        }
      },
      "source": [
        "#\n",
        "# Key, Value 쌍 얻기(items)\n",
        "#\n",
        "a.items()  # Key와 Value의 쌍을 튜플로 묶은 값을 dict_items 객체로 돌려준다."
      ],
      "execution_count": 0,
      "outputs": [
        {
          "output_type": "execute_result",
          "data": {
            "text/plain": [
              "dict_items([('name', 'pey'), ('phone', '0119993323'), ('birth', '1118')])"
            ]
          },
          "metadata": {
            "tags": []
          },
          "execution_count": 13
        }
      ]
    },
    {
      "cell_type": "code",
      "metadata": {
        "id": "hbpsbWiom324",
        "colab_type": "code",
        "outputId": "071d057e-7e73-446d-c3f6-f6b84e85e064",
        "colab": {
          "base_uri": "https://localhost:8080/",
          "height": 35
        }
      },
      "source": [
        "\n",
        "#\n",
        "#\n",
        "# Key: Value 쌍 모두 지우기(clear)\n",
        "#\n",
        "a.clear()\n",
        "a"
      ],
      "execution_count": 0,
      "outputs": [
        {
          "output_type": "execute_result",
          "data": {
            "text/plain": [
              "{}"
            ]
          },
          "metadata": {
            "tags": []
          },
          "execution_count": 14
        }
      ]
    },
    {
      "cell_type": "code",
      "metadata": {
        "id": "HQfZSKm0m4zl",
        "colab_type": "code",
        "colab": {}
      },
      "source": [
        "#\n",
        "# Key로 Value얻기(get)\n",
        "#\n",
        "a = {\"name\": \"pey\", \"phone\": \"0119993323\", \"birth\": \"1118\"}\n",
        "a.get(\"name\")  # a['name']\n",
        "a.get(\"phone\")  # a['phone']"
      ],
      "execution_count": 0,
      "outputs": []
    },
    {
      "cell_type": "code",
      "metadata": {
        "id": "AxKqL8Ekm_2p",
        "colab_type": "code",
        "colab": {}
      },
      "source": [
        "print(a[\"nokey\"])  # KeyError"
      ],
      "execution_count": 0,
      "outputs": []
    },
    {
      "cell_type": "code",
      "metadata": {
        "id": "wQkpuYalnAtP",
        "colab_type": "code",
        "outputId": "6461d01f-f5a5-4a3a-b79e-e81f2884118a",
        "colab": {
          "base_uri": "https://localhost:8080/",
          "height": 35
        }
      },
      "source": [
        "#\n",
        "# get(x, '디폴트 값')\n",
        "#\n",
        "# 딕셔너리 안에 찾으려는 Key 값이 없을 경우\n",
        "# 미리 정해 둔 디폴트 값을 대신 가져오게 설정.\n",
        "#\n",
        "a.get(\"foo\", \"bar\")\n",
        "a.get(\"name\", \"bar\")"
      ],
      "execution_count": 0,
      "outputs": [
        {
          "output_type": "execute_result",
          "data": {
            "text/plain": [
              "'pey'"
            ]
          },
          "metadata": {
            "tags": []
          },
          "execution_count": 16
        }
      ]
    },
    {
      "cell_type": "code",
      "metadata": {
        "id": "xrazv2KPnJYe",
        "colab_type": "code",
        "outputId": "4d5c66b4-3c28-441b-8fe5-2eb11ad68f4f",
        "colab": {
          "base_uri": "https://localhost:8080/",
          "height": 35
        }
      },
      "source": [
        "\n",
        "#\n",
        "# 해당 Key가 딕셔너리 안에 있는지 조사하기(in)\n",
        "#\n",
        "a = {\"name\": \"pey\", \"phone\": \"0119993323\", \"birth\": \"1118\"}\n",
        "\"name\" in a\n",
        "# \"foo\" in a\n"
      ],
      "execution_count": 0,
      "outputs": [
        {
          "output_type": "execute_result",
          "data": {
            "text/plain": [
              "True"
            ]
          },
          "metadata": {
            "tags": []
          },
          "execution_count": 18
        }
      ]
    },
    {
      "cell_type": "markdown",
      "metadata": {
        "id": "I2RPtjX0nNwF",
        "colab_type": "text"
      },
      "source": [
        "### SET"
      ]
    },
    {
      "cell_type": "code",
      "metadata": {
        "id": "H_d0yuWSk2XB",
        "colab_type": "code",
        "outputId": "eef61b83-540a-43df-cf1c-3cc4d8950571",
        "colab": {
          "base_uri": "https://localhost:8080/",
          "height": 53
        }
      },
      "source": [
        "# ch2_08_set.py\n",
        "\n",
        "print(\"집합: 집합(Set)이란?\")\n",
        "# 집합에 관련된 것을 쉽게 처리하기 위해 만든 자료형\n",
        "# 중복된 값을 허용하지 않는다.\n",
        "#\n",
        "# set 키워드를 사용해서 집합자료형을 만든다.\n",
        "#\n",
        "s1 = set([1, 2, 3])\n",
        "s1\n",
        "# s1n = set([1, 2, 3, 2])\n",
        "# s1n\n",
        "# s2 = set(\"Hello\")\n",
        "# s2"
      ],
      "execution_count": 0,
      "outputs": [
        {
          "output_type": "stream",
          "text": [
            "집합: 집합(Set)이란?\n"
          ],
          "name": "stdout"
        },
        {
          "output_type": "execute_result",
          "data": {
            "text/plain": [
              "{1, 2, 3}"
            ]
          },
          "metadata": {
            "tags": []
          },
          "execution_count": 20
        }
      ]
    },
    {
      "cell_type": "markdown",
      "metadata": {
        "id": "wn7C9rBOnV8w",
        "colab_type": "text"
      },
      "source": [
        "###집합자료형의 특징"
      ]
    },
    {
      "cell_type": "code",
      "metadata": {
        "id": "of8gG-BsnRk8",
        "colab_type": "code",
        "outputId": "5960f7de-c77d-4d5f-8a15-e47fb0d0dc7a",
        "colab": {
          "base_uri": "https://localhost:8080/",
          "height": 53
        }
      },
      "source": [
        "#\n",
        "# 집합 자료형의 특징\n",
        "# 1. 중복을 허용하지 않는다.\n",
        "# 2. 순서가 없다(Unordered).\n",
        "# *** set 자료형은 순서가 없기(unordered) 때문에 인덱싱으로 값을 얻을 수 없다.\n",
        "#\n",
        "s1 = set([1,2,3])\n",
        "print(s1)\n",
        "# s1[0]   #typeError: 'set' object is not callable\n",
        "l1=list(s1)\n",
        "l1\n",
        "l1[0]"
      ],
      "execution_count": 0,
      "outputs": [
        {
          "output_type": "stream",
          "text": [
            "{1, 2, 3}\n"
          ],
          "name": "stdout"
        },
        {
          "output_type": "execute_result",
          "data": {
            "text/plain": [
              "1"
            ]
          },
          "metadata": {
            "tags": []
          },
          "execution_count": 25
        }
      ]
    },
    {
      "cell_type": "code",
      "metadata": {
        "id": "oDooDdBVnZaU",
        "colab_type": "code",
        "outputId": "d13ed10d-854f-42b2-ec89-3deb469402c2",
        "colab": {
          "base_uri": "https://localhost:8080/",
          "height": 35
        }
      },
      "source": [
        "#\n",
        "t1=tuple(s1)\n",
        "t1\n",
        "t1[0]"
      ],
      "execution_count": 0,
      "outputs": [
        {
          "output_type": "execute_result",
          "data": {
            "text/plain": [
              "1"
            ]
          },
          "metadata": {
            "tags": []
          },
          "execution_count": 26
        }
      ]
    },
    {
      "cell_type": "code",
      "metadata": {
        "id": "2f5BjbmJnyXT",
        "colab_type": "code",
        "outputId": "7bf826fe-c80a-4902-bb97-b9e0431c6194",
        "colab": {
          "base_uri": "https://localhost:8080/",
          "height": 35
        }
      },
      "source": [
        "#\n",
        "# 교집합, 합집합, 차집합 구하기\n",
        "#\n",
        "s1 = set([1, 2, 3, 4, 5, 6])\n",
        "s2 = set([4, 5, 6, 7, 8, 9])\n",
        "# \n",
        "# 1. 교집합\n",
        "#\n",
        "s1 & s2\n",
        "s1.intersection(s2)\n",
        "# \n",
        "# 2. 합집합\n",
        "#\n",
        "# s1 | s2\n",
        "# s1.union(s2)\n",
        "# \n",
        "# 3. 차집합\n",
        "#\n",
        "s1 - s2\n",
        "s2 - s1\n",
        "# s1.difference(s2)\n",
        "s2.difference(s1)"
      ],
      "execution_count": 0,
      "outputs": [
        {
          "output_type": "execute_result",
          "data": {
            "text/plain": [
              "{7, 8, 9}"
            ]
          },
          "metadata": {
            "tags": []
          },
          "execution_count": 29
        }
      ]
    },
    {
      "cell_type": "markdown",
      "metadata": {
        "id": "KJiSy_j4oNwS",
        "colab_type": "text"
      },
      "source": [
        "### 집합 (set): 관련 내장 함수들"
      ]
    },
    {
      "cell_type": "code",
      "metadata": {
        "id": "FRJ9uGugoAYp",
        "colab_type": "code",
        "outputId": "bf2927d3-1cdc-4a20-f029-862a3bbd389e",
        "colab": {
          "base_uri": "https://localhost:8080/",
          "height": 53
        }
      },
      "source": [
        "#\n",
        "print(\"집합 (set): 관련 내장 함수들\")\n",
        "#\n",
        "# 값 1개 추가하기(add)\n",
        "#\n",
        "s1 = set([1, 2, 3])\n",
        "s1.add(4)\n",
        "s1"
      ],
      "execution_count": 0,
      "outputs": [
        {
          "output_type": "stream",
          "text": [
            "집합 (set): 관련 내장 함수들\n"
          ],
          "name": "stdout"
        },
        {
          "output_type": "execute_result",
          "data": {
            "text/plain": [
              "{1, 2, 3, 4}"
            ]
          },
          "metadata": {
            "tags": []
          },
          "execution_count": 30
        }
      ]
    },
    {
      "cell_type": "code",
      "metadata": {
        "id": "08Pxf0WdoQ_C",
        "colab_type": "code",
        "outputId": "0221b204-1c6a-4ac8-bc99-9196e0de5c86",
        "colab": {
          "base_uri": "https://localhost:8080/",
          "height": 35
        }
      },
      "source": [
        "\n",
        "#\n",
        "# 값 여러 개 추가하기(update)\n",
        "#\n",
        "s1 = set([1, 2, 3])\n",
        "s1.update([4,5,6])\n",
        "s1\n",
        "s1.add(5)\n",
        "s1"
      ],
      "execution_count": 0,
      "outputs": [
        {
          "output_type": "execute_result",
          "data": {
            "text/plain": [
              "{1, 2, 3, 4, 5, 6}"
            ]
          },
          "metadata": {
            "tags": []
          },
          "execution_count": 31
        }
      ]
    },
    {
      "cell_type": "code",
      "metadata": {
        "id": "kS3_93LFoT03",
        "colab_type": "code",
        "outputId": "8bd8a94d-043a-403f-e11a-254a513496e9",
        "colab": {
          "base_uri": "https://localhost:8080/",
          "height": 35
        }
      },
      "source": [
        "\n",
        "#\n",
        "# 특정 값 제거하기(remove)\n",
        "#\n",
        "s1 = set([1, 2, 3])\n",
        "s1.remove(2)\n",
        "s1"
      ],
      "execution_count": 0,
      "outputs": [
        {
          "output_type": "execute_result",
          "data": {
            "text/plain": [
              "{1, 3}"
            ]
          },
          "metadata": {
            "tags": []
          },
          "execution_count": 32
        }
      ]
    },
    {
      "cell_type": "code",
      "metadata": {
        "id": "EuxvyiiioZ_9",
        "colab_type": "code",
        "colab": {}
      },
      "source": [
        "#################################################\n",
        "# frozenset()  # immutable set\n",
        "#################################################\n",
        "small_primes = frozenset([2, 3, 5, 7])\n",
        "bigger_primes = frozenset([5, 7, 11])\n",
        "# small_primes.add(11)  # we cannot add to a frozenset -> AttributeError\n",
        "\n",
        "# small_primes.remove(2)  # neither we can remove -> AttributeError\n",
        "\n",
        "# small_primes & bigger_primes  # intersect, union, etc. allowed\n",
        "# frozenset({5, 7})\n"
      ],
      "execution_count": 0,
      "outputs": []
    },
    {
      "cell_type": "markdown",
      "metadata": {
        "id": "wxEhPCTZolRP",
        "colab_type": "text"
      },
      "source": [
        "###bool(불)"
      ]
    },
    {
      "cell_type": "code",
      "metadata": {
        "id": "tv_QpNIwk2XJ",
        "colab_type": "code",
        "outputId": "2259b740-6957-4f15-dd0d-aa98ade7ce68",
        "colab": {
          "base_uri": "https://localhost:8080/",
          "height": 53
        }
      },
      "source": [
        "# ch2_09_bool.py\n",
        "\n",
        "print(\"불: 불 자료형이란?\")\n",
        "# 불(bool) 자료형이란 참(True)과 거짓(False)을 나타내는 자료형이다.\n",
        "# 불 자료형은 다음 2가지 값만을 가질 수 있다.\n",
        "# True - 참\n",
        "# False - 거짓\n",
        "# True나 False는 파이썬의 예약어로 true, false와 같이 사용하지 말고\n",
        "# 첫 문자를 항상 대문자로 사용해야 한다.\n",
        "#\n",
        "a = True\n",
        "b = False\n",
        "type(a), type(b)"
      ],
      "execution_count": 0,
      "outputs": [
        {
          "output_type": "stream",
          "text": [
            "불: 불 자료형이란?\n"
          ],
          "name": "stdout"
        },
        {
          "output_type": "execute_result",
          "data": {
            "text/plain": [
              "(bool, bool)"
            ]
          },
          "metadata": {
            "tags": []
          },
          "execution_count": 36
        }
      ]
    },
    {
      "cell_type": "code",
      "metadata": {
        "id": "vz-tWxwHorKo",
        "colab_type": "code",
        "outputId": "5f10379b-9e7d-4538-b7c5-f68b04f61159",
        "colab": {
          "base_uri": "https://localhost:8080/",
          "height": 35
        }
      },
      "source": [
        "#\n",
        "# 참과 거짓\n",
        "#\n",
        "1 == 1\n",
        "# 2 > 1\n",
        "# 2 < 1\n",
        "# True + 1\n",
        "# False + 1"
      ],
      "execution_count": 0,
      "outputs": [
        {
          "output_type": "execute_result",
          "data": {
            "text/plain": [
              "True"
            ]
          },
          "metadata": {
            "tags": []
          },
          "execution_count": 37
        }
      ]
    },
    {
      "cell_type": "markdown",
      "metadata": {
        "id": "ff0XrM7Eowpt",
        "colab_type": "text"
      },
      "source": [
        "###자료형의 참과 거짓!\n",
        "- string\n",
        "- list\n",
        "- tuple\n",
        "- dictionary\n",
        "- set\n",
        "- bool"
      ]
    },
    {
      "cell_type": "code",
      "metadata": {
        "id": "APgKrfxtos7i",
        "colab_type": "code",
        "outputId": "ea1a9179-7773-45eb-efe2-2779573a86d8",
        "colab": {
          "base_uri": "https://localhost:8080/",
          "height": 35
        }
      },
      "source": [
        "#\n",
        "# 자료형의 참과 거짓\n",
        "#\n",
        "bool(\"python\")\n",
        "bool(\"\")\n",
        "# bool([1, 2, 3])\n",
        "# bool([2, 3])\n",
        "# bool([])\n",
        "# bool(())\n",
        "# bool({})\n",
        "# bool(1)\n",
        "# bool(0)\n",
        "# bool(None)"
      ],
      "execution_count": 0,
      "outputs": [
        {
          "output_type": "execute_result",
          "data": {
            "text/plain": [
              "False"
            ]
          },
          "metadata": {
            "tags": []
          },
          "execution_count": 38
        }
      ]
    },
    {
      "cell_type": "markdown",
      "metadata": {
        "id": "FbebPuo8pFL0",
        "colab_type": "text"
      },
      "source": [
        "###Quzi"
      ]
    },
    {
      "cell_type": "code",
      "metadata": {
        "id": "-HLab8alpJg3",
        "colab_type": "code",
        "outputId": "1a8869be-6f9f-46fc-d6f2-2c584ef282d2",
        "colab": {
          "base_uri": "https://localhost:8080/",
          "height": 35
        }
      },
      "source": [
        "bool(0), bool([0]), bool((0)), bool((0,)) #(0) == 0"
      ],
      "execution_count": 0,
      "outputs": [
        {
          "output_type": "execute_result",
          "data": {
            "text/plain": [
              "(False, True, False, True)"
            ]
          },
          "metadata": {
            "tags": []
          },
          "execution_count": 40
        }
      ]
    },
    {
      "cell_type": "markdown",
      "metadata": {
        "id": "oU4JiOM2pTrt",
        "colab_type": "text"
      },
      "source": [
        ""
      ]
    },
    {
      "cell_type": "code",
      "metadata": {
        "id": "UKQE9aeSpBGp",
        "colab_type": "code",
        "outputId": "fbd19dbe-cfb7-40ca-98a7-f19fe4050193",
        "colab": {
          "base_uri": "https://localhost:8080/",
          "height": 89
        }
      },
      "source": [
        "#\n",
        "# 불 값을 이용한 코드\n",
        "#\n",
        "a = [1, 2, 3, 4]\n",
        "#\n",
        "while a:\n",
        "    print(a.pop())"
      ],
      "execution_count": 0,
      "outputs": [
        {
          "output_type": "stream",
          "text": [
            "4\n",
            "3\n",
            "2\n",
            "1\n"
          ],
          "name": "stdout"
        }
      ]
    },
    {
      "cell_type": "code",
      "metadata": {
        "id": "lLY2UHWIpb8S",
        "colab_type": "code",
        "colab": {}
      },
      "source": [
        "\n",
        "#\n",
        "if []:\n",
        "    print(\"참\")\n",
        "else:\n",
        "    print(\"거짓\")"
      ],
      "execution_count": 0,
      "outputs": []
    },
    {
      "cell_type": "code",
      "metadata": {
        "id": "Dpv02Gv1pfki",
        "colab_type": "code",
        "outputId": "7431fbe2-0496-4127-8563-7460e6fbbb14",
        "colab": {
          "base_uri": "https://localhost:8080/",
          "height": 35
        }
      },
      "source": [
        "############################\n",
        "#  Representation error\n",
        "## double precision representation of floating-point numbers\n",
        "############################\n",
        "1-0.9\n",
        "# 0.09999999999999998\n",
        "1-0.9==.1\n",
        "# False"
      ],
      "execution_count": 0,
      "outputs": [
        {
          "output_type": "execute_result",
          "data": {
            "text/plain": [
              "False"
            ]
          },
          "metadata": {
            "tags": []
          },
          "execution_count": 42
        }
      ]
    },
    {
      "cell_type": "code",
      "metadata": {
        "id": "O4EaAiZipl14",
        "colab_type": "code",
        "outputId": "2210415d-f9b1-4ad8-c327-690a57754c81",
        "colab": {
          "base_uri": "https://localhost:8080/",
          "height": 35
        }
      },
      "source": [
        "\n",
        "\n",
        "#####\n",
        "import decimal\n",
        "x=decimal.Decimal(3.14)\n",
        "y=decimal.Decimal(2.74)\n",
        "x,y\n",
        "\n",
        "x*y\n",
        "# Decimal('8.603600000000001010036498883')\n",
        "decimal.getcontext().prec=4\n",
        "x*y\n",
        "# Decimal('8.604')"
      ],
      "execution_count": 0,
      "outputs": [
        {
          "output_type": "execute_result",
          "data": {
            "text/plain": [
              "Decimal('8.604')"
            ]
          },
          "metadata": {
            "tags": []
          },
          "execution_count": 43
        }
      ]
    },
    {
      "cell_type": "markdown",
      "metadata": {
        "id": "8rYninxUpro0",
        "colab_type": "text"
      },
      "source": [
        "##변수"
      ]
    },
    {
      "cell_type": "code",
      "metadata": {
        "id": "wIUD206Zk2XP",
        "colab_type": "code",
        "outputId": "ebd6cbc7-a2d7-4c40-99d0-04539cfb9d1a",
        "colab": {
          "base_uri": "https://localhost:8080/",
          "height": 53
        }
      },
      "source": [
        "# ch2_10_variable.py\n",
        "\n",
        "print(\"변수: 변수란?\")\n",
        "#\n",
        "# 변수는 자료(값)을 저장하는 공간이다.\n",
        "#\n",
        "a = [1, 2, 3]\n",
        "id(a)  # a 변수가 가리키는 메모리의 주소"
      ],
      "execution_count": 0,
      "outputs": [
        {
          "output_type": "stream",
          "text": [
            "변수: 변수란?\n"
          ],
          "name": "stdout"
        },
        {
          "output_type": "execute_result",
          "data": {
            "text/plain": [
              "139958706922696"
            ]
          },
          "metadata": {
            "tags": []
          },
          "execution_count": 44
        }
      ]
    },
    {
      "cell_type": "code",
      "metadata": {
        "id": "jZHmnp4gpzYI",
        "colab_type": "code",
        "colab": {}
      },
      "source": [
        "# list\n",
        "a = [1, 2, 3]\n",
        "id(a)\n",
        "b = a\n",
        "id(a), id(b)\n",
        "# a is b\n",
        "# a[1] = 4\n",
        "# a, b\n",
        "# a is b\n",
        "# b = [1, 2, 3]\n",
        "# id(b)\n",
        "# a is b"
      ],
      "execution_count": 0,
      "outputs": []
    },
    {
      "cell_type": "code",
      "metadata": {
        "id": "JRFOioaBqAQ_",
        "colab_type": "code",
        "outputId": "26195dd2-943b-4ad0-ada4-4160aea75362",
        "colab": {
          "base_uri": "https://localhost:8080/",
          "height": 35
        }
      },
      "source": [
        "\n",
        "#\n",
        "# b 변수를 생성할 때 a 변수의 값을 가져오면서\n",
        "# a와는 다른 주소를 가리키도록 만들수는 없을까?\n",
        "# 다음 2가지 방법이 있다.\n",
        "#\n",
        "# 1. [:] 이용\n",
        "#\n",
        "a = [1, 2, 3]\n",
        "b = a[:]\n",
        "a[1] = 4\n",
        "a, b\n",
        "#\n",
        "# 2. copy 모듈 이용\n",
        "#\n",
        "a = [1, 2, 3]\n",
        "from copy import copy\n",
        "b = copy(a)\n",
        "\n",
        "b is a, a is b"
      ],
      "execution_count": 0,
      "outputs": [
        {
          "output_type": "execute_result",
          "data": {
            "text/plain": [
              "(False, False)"
            ]
          },
          "metadata": {
            "tags": []
          },
          "execution_count": 48
        }
      ]
    },
    {
      "cell_type": "code",
      "metadata": {
        "id": "zCARnpJ6qH_t",
        "colab_type": "code",
        "outputId": "248c368c-f763-4e4f-f968-6ce233df679f",
        "colab": {
          "base_uri": "https://localhost:8080/",
          "height": 35
        }
      },
      "source": [
        "#\n",
        "# 변수를 만드는 여러 가지 방법\n",
        "#\n",
        "a, b = (\"python\", \"life\")\n",
        "a\n",
        "b\n",
        "a, b"
      ],
      "execution_count": 0,
      "outputs": [
        {
          "output_type": "execute_result",
          "data": {
            "text/plain": [
              "('python', 'life')"
            ]
          },
          "metadata": {
            "tags": []
          },
          "execution_count": 49
        }
      ]
    },
    {
      "cell_type": "code",
      "metadata": {
        "id": "mfdz_UudqWE7",
        "colab_type": "code",
        "outputId": "976a813b-630f-4e01-d127-b5bd0fc6934b",
        "colab": {
          "base_uri": "https://localhost:8080/",
          "height": 35
        }
      },
      "source": [
        "[a, b] = [\"python\", \"life\"]\n",
        "a,b\n",
        "\n",
        "# a = 3\n",
        "# b = 5\n",
        "a, b = b, a\n",
        "a,b"
      ],
      "execution_count": 0,
      "outputs": [
        {
          "output_type": "execute_result",
          "data": {
            "text/plain": [
              "('life', 'python')"
            ]
          },
          "metadata": {
            "tags": []
          },
          "execution_count": 54
        }
      ]
    }
  ]
}