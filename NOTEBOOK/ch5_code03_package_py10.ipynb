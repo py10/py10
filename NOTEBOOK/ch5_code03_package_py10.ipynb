{
  "nbformat": 4,
  "nbformat_minor": 0,
  "metadata": {
    "colab": {
      "name": "ch5_code03_package_py10.ipynb",
      "provenance": [],
      "collapsed_sections": [],
      "include_colab_link": true
    },
    "kernelspec": {
      "name": "python3",
      "display_name": "Python 3"
    }
  },
  "cells": [
    {
      "cell_type": "markdown",
      "metadata": {
        "id": "view-in-github",
        "colab_type": "text"
      },
      "source": [
        "<a href=\"https://colab.research.google.com/github/py10/py10/blob/master/NOTEBOOK/ch5_code03_package_py10.ipynb\" target=\"_parent\"><img src=\"https://colab.research.google.com/assets/colab-badge.svg\" alt=\"Open In Colab\"/></a>"
      ]
    },
    {
      "cell_type": "markdown",
      "metadata": {
        "id": "8tRbFmvV5SSc",
        "colab_type": "text"
      },
      "source": [
        "## 패키지\n",
        "```\n",
        "./game/__init__.py\n",
        "./game/sound/__init__.py\n",
        "./game/sound/echo.py\n",
        "./game/graphic/__init__.py\n",
        "./game/graphic/render.py\n",
        "```"
      ]
    },
    {
      "cell_type": "markdown",
      "metadata": {
        "id": "APZV3iOx3NX3",
        "colab_type": "text"
      },
      "source": [
        "## 패키지 테스트\n",
        "```\n",
        "# echo.py\n",
        "def echo_test():\n",
        "    print(\"echo\")\n",
        "```\n",
        "\n",
        "```\n",
        "# render.py\n",
        "from ..sound.echo import echo_test\n",
        "def render_test():\n",
        "    print (\"render\")\n",
        "    echo_test()\n",
        "```\n",
        "\n",
        "```\n",
        "from game.graphic.render import render_test\n",
        "render_test()\n",
        "```"
      ]
    },
    {
      "cell_type": "code",
      "metadata": {
        "id": "1sdg6ocS3Dmc",
        "colab_type": "code",
        "outputId": "2c8e8683-3c2b-4a95-ee75-df22eb14c07b",
        "colab": {
          "base_uri": "https://localhost:8080/",
          "height": 34
        }
      },
      "source": [
        "from game.sound.echo import echo_test\n",
        "echo_test()"
      ],
      "execution_count": 3,
      "outputs": [
        {
          "output_type": "stream",
          "text": [
            "echo\n"
          ],
          "name": "stdout"
        }
      ]
    },
    {
      "cell_type": "code",
      "metadata": {
        "id": "oup6ndTX5KAd",
        "colab_type": "code",
        "outputId": "cc3e833d-fd03-4270-a484-42f494177da4",
        "colab": {
          "base_uri": "https://localhost:8080/",
          "height": 34
        }
      },
      "source": [
        "from game.graphic.render import render_test\n",
        " \n",
        "render_test()"
      ],
      "execution_count": 2,
      "outputs": [
        {
          "output_type": "stream",
          "text": [
            "render\n"
          ],
          "name": "stdout"
        }
      ]
    },
    {
      "cell_type": "code",
      "metadata": {
        "id": "NbMtql0c5N7h",
        "colab_type": "code",
        "colab": {}
      },
      "source": [
        ""
      ],
      "execution_count": 0,
      "outputs": []
    }
  ]
}