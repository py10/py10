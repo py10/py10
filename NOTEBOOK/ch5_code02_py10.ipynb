{
  "nbformat": 4,
  "nbformat_minor": 0,
  "metadata": {
    "colab": {
      "name": "ch5_code02_py10.ipynb",
      "provenance": [],
      "collapsed_sections": [],
      "include_colab_link": true
    },
    "kernelspec": {
      "display_name": "Python 3",
      "language": "python",
      "name": "python3"
    },
    "language_info": {
      "codemirror_mode": {
        "name": "ipython",
        "version": 3
      },
      "file_extension": ".py",
      "mimetype": "text/x-python",
      "name": "python",
      "nbconvert_exporter": "python",
      "pygments_lexer": "ipython3",
      "version": "3.7.5"
    }
  },
  "cells": [
    {
      "cell_type": "markdown",
      "metadata": {
        "id": "view-in-github",
        "colab_type": "text"
      },
      "source": [
        "<a href=\"https://colab.research.google.com/github/py10/py10/blob/master/NOTEBOOK/ch5_code02_py10.ipynb\" target=\"_parent\"><img src=\"https://colab.research.google.com/assets/colab-badge.svg\" alt=\"Open In Colab\"/></a>"
      ]
    },
    {
      "cell_type": "markdown",
      "metadata": {
        "colab_type": "text",
        "id": "H4jNE-BMAK3f"
      },
      "source": [
        "# ch5_code02.ipynb\n",
        "## 5장 파이썬 날개달기\n",
        "## py10  (change to your id)\n",
        "### 예외 처리, 내장 함수, 외장 함수\n",
        "---\n",
        "- 예외 처리\n",
        "   - 오류는 어떤 때 발생하는가?\n",
        "   - 오류 예외 처리 기법\n",
        "     - try, except문\n",
        "     - try .. finally\n",
        "     - 여러개의 오류처리하기\n",
        "   - 오류 회피하기\n",
        "   - 오류 일부러 발생시키기\n",
        "   - 예외 만들기"
      ]
    },
    {
      "cell_type": "markdown",
      "metadata": {
        "id": "skNWDGw9t4Vx",
        "colab_type": "text"
      },
      "source": [
        "### 예외 처리\n",
        "> try ... except ... finally"
      ]
    },
    {
      "cell_type": "code",
      "metadata": {
        "id": "hXPcvn1CtW6z",
        "colab_type": "code",
        "outputId": "9e3adbe3-dd19-49bf-d7f3-25efa684acb5",
        "colab": {
          "base_uri": "https://localhost:8080/",
          "height": 35
        }
      },
      "source": [
        "# ch5_04_handling_exception.py\n",
        "#\n",
        "print(\"예외 처리\")\n",
        "#######################################\n",
        "# 빈번히 발생하는 오류를 처리\n",
        "# try, except, finally 를 사용\n",
        "#######################################\n",
        "#\n"
      ],
      "execution_count": 0,
      "outputs": [
        {
          "output_type": "stream",
          "text": [
            "예외 처리\n"
          ],
          "name": "stdout"
        }
      ]
    },
    {
      "cell_type": "markdown",
      "metadata": {
        "id": "0QSZ7ZsvuREf",
        "colab_type": "text"
      },
      "source": [
        "### 대표적인 오류 유형"
      ]
    },
    {
      "cell_type": "code",
      "metadata": {
        "id": "pFyNJ0TMuMTW",
        "colab_type": "code",
        "outputId": "0840e694-cc5c-4ca5-f419-3d481325a0ec",
        "colab": {
          "base_uri": "https://localhost:8080/",
          "height": 226
        }
      },
      "source": [
        "print(\"오류는 어떤 때 발생하는가?\")\n",
        "#######################################\n",
        "# 오류가 발생하는 사례\n",
        "#######################################\n",
        "#\n",
        "# 1. 디렉터리 안에 없는 파일을 열려고 시도했을 때\n",
        "# \n",
        "f = open(\"나없는파일\", 'r')   # FileNotFoundError:\n"
      ],
      "execution_count": 0,
      "outputs": [
        {
          "output_type": "stream",
          "text": [
            "오류는 어떤 때 발생하는가?\n"
          ],
          "name": "stdout"
        },
        {
          "output_type": "error",
          "ename": "FileNotFoundError",
          "evalue": "ignored",
          "traceback": [
            "\u001b[0;31m---------------------------------------------------------------------------\u001b[0m",
            "\u001b[0;31mFileNotFoundError\u001b[0m                         Traceback (most recent call last)",
            "\u001b[0;32m<ipython-input-2-5a1e11716031>\u001b[0m in \u001b[0;36m<module>\u001b[0;34m()\u001b[0m\n\u001b[1;32m      6\u001b[0m \u001b[0;31m# 1. 디렉터리 안에 없는 파일을 열려고 시도했을 때\u001b[0m\u001b[0;34m\u001b[0m\u001b[0;34m\u001b[0m\u001b[0;34m\u001b[0m\u001b[0m\n\u001b[1;32m      7\u001b[0m \u001b[0;31m#\u001b[0m\u001b[0;34m\u001b[0m\u001b[0;34m\u001b[0m\u001b[0;34m\u001b[0m\u001b[0m\n\u001b[0;32m----> 8\u001b[0;31m \u001b[0mf\u001b[0m \u001b[0;34m=\u001b[0m \u001b[0mopen\u001b[0m\u001b[0;34m(\u001b[0m\u001b[0;34m\"나없는파일\"\u001b[0m\u001b[0;34m,\u001b[0m \u001b[0;34m'r'\u001b[0m\u001b[0;34m)\u001b[0m   \u001b[0;31m# FileNotFoundError:\u001b[0m\u001b[0;34m\u001b[0m\u001b[0;34m\u001b[0m\u001b[0m\n\u001b[0m",
            "\u001b[0;31mFileNotFoundError\u001b[0m: [Errno 2] No such file or directory: '나없는파일'"
          ]
        }
      ]
    },
    {
      "cell_type": "code",
      "metadata": {
        "id": "2bhs-RFAuYEg",
        "colab_type": "code",
        "outputId": "96392cba-ddec-4b71-923f-e2ad1c3ed45c",
        "colab": {
          "base_uri": "https://localhost:8080/",
          "height": 190
        }
      },
      "source": [
        "# 2. 0으로 다른 숫자를 나누는 경우 (division by zero)\n",
        "4 / 0   # ZeroDivisionError:\n"
      ],
      "execution_count": 0,
      "outputs": [
        {
          "output_type": "error",
          "ename": "ZeroDivisionError",
          "evalue": "ignored",
          "traceback": [
            "\u001b[0;31m---------------------------------------------------------------------------\u001b[0m",
            "\u001b[0;31mZeroDivisionError\u001b[0m                         Traceback (most recent call last)",
            "\u001b[0;32m<ipython-input-3-b5c7a1d23a4a>\u001b[0m in \u001b[0;36m<module>\u001b[0;34m()\u001b[0m\n\u001b[1;32m      1\u001b[0m \u001b[0;31m# 2. 0으로 다른 숫자를 나누는 경우 (division by zero)\u001b[0m\u001b[0;34m\u001b[0m\u001b[0;34m\u001b[0m\u001b[0;34m\u001b[0m\u001b[0m\n\u001b[0;32m----> 2\u001b[0;31m \u001b[0;36m4\u001b[0m \u001b[0;34m/\u001b[0m \u001b[0;36m0\u001b[0m   \u001b[0;31m# ZeroDivisionError:\u001b[0m\u001b[0;34m\u001b[0m\u001b[0;34m\u001b[0m\u001b[0m\n\u001b[0m",
            "\u001b[0;31mZeroDivisionError\u001b[0m: division by zero"
          ]
        }
      ]
    },
    {
      "cell_type": "code",
      "metadata": {
        "id": "k-kU92QTuqRY",
        "colab_type": "code",
        "outputId": "8efef7e3-4bc8-4505-821d-51c3f913fdf1",
        "colab": {
          "base_uri": "https://localhost:8080/",
          "height": 226
        }
      },
      "source": [
        "# 범위를 벗어 난 인덱싱 (list index out of range)\n",
        "a = [1,2,3]\n",
        "print(a[1])\n",
        "\n",
        "a[3]  # IndexError:\n"
      ],
      "execution_count": 0,
      "outputs": [
        {
          "output_type": "stream",
          "text": [
            "2\n"
          ],
          "name": "stdout"
        },
        {
          "output_type": "error",
          "ename": "IndexError",
          "evalue": "ignored",
          "traceback": [
            "\u001b[0;31m---------------------------------------------------------------------------\u001b[0m",
            "\u001b[0;31mIndexError\u001b[0m                                Traceback (most recent call last)",
            "\u001b[0;32m<ipython-input-4-b8f0f532ed24>\u001b[0m in \u001b[0;36m<module>\u001b[0;34m()\u001b[0m\n\u001b[1;32m      3\u001b[0m \u001b[0mprint\u001b[0m\u001b[0;34m(\u001b[0m\u001b[0ma\u001b[0m\u001b[0;34m[\u001b[0m\u001b[0;36m1\u001b[0m\u001b[0;34m]\u001b[0m\u001b[0;34m)\u001b[0m\u001b[0;34m\u001b[0m\u001b[0;34m\u001b[0m\u001b[0m\n\u001b[1;32m      4\u001b[0m \u001b[0;34m\u001b[0m\u001b[0m\n\u001b[0;32m----> 5\u001b[0;31m \u001b[0ma\u001b[0m\u001b[0;34m[\u001b[0m\u001b[0;36m3\u001b[0m\u001b[0;34m]\u001b[0m  \u001b[0;31m# IndexError:\u001b[0m\u001b[0;34m\u001b[0m\u001b[0;34m\u001b[0m\u001b[0m\n\u001b[0m",
            "\u001b[0;31mIndexError\u001b[0m: list index out of range"
          ]
        }
      ]
    },
    {
      "cell_type": "markdown",
      "metadata": {
        "id": "tWi6wiOcvS2H",
        "colab_type": "text"
      },
      "source": [
        "### 오류 예외 처리 기법"
      ]
    },
    {
      "cell_type": "markdown",
      "metadata": {
        "id": "CQn1tuVrvYBE",
        "colab_type": "text"
      },
      "source": [
        "#### try ... except문"
      ]
    },
    {
      "cell_type": "code",
      "metadata": {
        "id": "mZmYjb9hu2Wo",
        "colab_type": "code",
        "outputId": "367cc4c9-314d-476b-a4f2-965a0fc3d222",
        "colab": {
          "base_uri": "https://localhost:8080/",
          "height": 53
        }
      },
      "source": [
        "print(\"오류 예외 처리 기법\")\n",
        "#######################################\n",
        "# 유연한 프로그래밍을 위한 오류 처리 기법\n",
        "#######################################\n",
        "#\n",
        "# 1. try, except문\n",
        "#\n",
        "# try, except문의 기본 구조\n",
        "'''\n",
        "try:\n",
        "    ...\n",
        "except [발생 오류[as 오류 메시지 변수]]:\n",
        "    ...\n",
        "'''\n",
        "# try 블록 수행 중 오류가 발생하면 except 블록이 수행된다. \n",
        "# 하지만 try 블록에서 오류가 발생하지 않는다면 \n",
        "# except 블록은 수행되지 않는다.\n"
      ],
      "execution_count": 0,
      "outputs": [
        {
          "output_type": "stream",
          "text": [
            "오류 예외 처리 기법\n"
          ],
          "name": "stdout"
        },
        {
          "output_type": "execute_result",
          "data": {
            "text/plain": [
              "'\\ntry:\\n    ...\\nexcept [발생 오류[as 오류 메시지 변수]]:\\n    ...\\n'"
            ]
          },
          "metadata": {
            "tags": []
          },
          "execution_count": 5
        }
      ]
    },
    {
      "cell_type": "code",
      "metadata": {
        "id": "g8apxsscvm0P",
        "colab_type": "code",
        "outputId": "8bb50287-7fc2-42f1-8c5d-f4cdfbcb0d16",
        "colab": {
          "base_uri": "https://localhost:8080/",
          "height": 35
        }
      },
      "source": [
        "# ZeroDivisionError:\n",
        "try:\n",
        "    4 / 0\n",
        "except ZeroDivisionError as e:\n",
        "    print(e)\n",
        "\n",
        "\n",
        "# division by zero\n"
      ],
      "execution_count": 0,
      "outputs": [
        {
          "output_type": "stream",
          "text": [
            "division by zero\n"
          ],
          "name": "stdout"
        }
      ]
    },
    {
      "cell_type": "code",
      "metadata": {
        "id": "ZWVgJ7Q_vq-t",
        "colab_type": "code",
        "outputId": "b11dca0a-f1ea-4629-d62c-57d52a154d08",
        "colab": {
          "base_uri": "https://localhost:8080/",
          "height": 35
        }
      },
      "source": [
        "# IndexError:\n",
        "a = [1, 2, 3]\n",
        "try:\n",
        "    a[3]\n",
        "except IndexError as e:\n",
        "    print(e)\n",
        "\n",
        "\n",
        "# list index out of range\n"
      ],
      "execution_count": 0,
      "outputs": [
        {
          "output_type": "stream",
          "text": [
            "list index out of range\n"
          ],
          "name": "stdout"
        }
      ]
    },
    {
      "cell_type": "markdown",
      "metadata": {
        "id": "0l2XqxIGwLvi",
        "colab_type": "text"
      },
      "source": [
        "#### try ... except ... finally문"
      ]
    },
    {
      "cell_type": "code",
      "metadata": {
        "id": "W22yzgk3w9uw",
        "colab_type": "code",
        "outputId": "240b1139-ec23-499b-bc2b-b6d4a98347a2",
        "colab": {
          "base_uri": "https://localhost:8080/",
          "height": 172
        }
      },
      "source": [
        " f = open('foo.txt', 'r')"
      ],
      "execution_count": 0,
      "outputs": [
        {
          "output_type": "error",
          "ename": "FileNotFoundError",
          "evalue": "ignored",
          "traceback": [
            "\u001b[0;31m---------------------------------------------------------------------------\u001b[0m",
            "\u001b[0;31mFileNotFoundError\u001b[0m                         Traceback (most recent call last)",
            "\u001b[0;32m<ipython-input-11-cc05ccee3540>\u001b[0m in \u001b[0;36m<module>\u001b[0;34m()\u001b[0m\n\u001b[0;32m----> 1\u001b[0;31m \u001b[0mf\u001b[0m \u001b[0;34m=\u001b[0m \u001b[0mopen\u001b[0m\u001b[0;34m(\u001b[0m\u001b[0;34m'foo.txt'\u001b[0m\u001b[0;34m,\u001b[0m \u001b[0;34m'r'\u001b[0m\u001b[0;34m)\u001b[0m\u001b[0;34m\u001b[0m\u001b[0;34m\u001b[0m\u001b[0m\n\u001b[0m",
            "\u001b[0;31mFileNotFoundError\u001b[0m: [Errno 2] No such file or directory: 'foo.txt'"
          ]
        }
      ]
    },
    {
      "cell_type": "code",
      "metadata": {
        "id": "lOIoFOqfwC78",
        "colab_type": "code",
        "colab": {}
      },
      "source": [
        "#\n",
        "# 2. try, finally문\n",
        "#\n",
        "# try문에는 finally절을 사용할 수 있다. \n",
        "# finally절은 try문 수행 도중 예외 발생 여부에 상관없이 항상 수행\n",
        "#\n",
        "\n",
        "try:\n",
        "    f = open('goo.txt', 'w')\n",
        "    # 무언가를 수행한다.\n",
        "finally:\n",
        "    f.close()\n"
      ],
      "execution_count": 0,
      "outputs": []
    },
    {
      "cell_type": "markdown",
      "metadata": {
        "id": "nfpyh3aYxnn2",
        "colab_type": "text"
      },
      "source": [
        "### 여러개의 오류처리하기"
      ]
    },
    {
      "cell_type": "code",
      "metadata": {
        "id": "j0HNRE5FwbRh",
        "colab_type": "code",
        "outputId": "9a9e099e-11f5-4d43-bef0-994de6129eab",
        "colab": {
          "base_uri": "https://localhost:8080/",
          "height": 35
        }
      },
      "source": [
        "#\n",
        "# 3. 여러개의 오류처리하기\n",
        "#\n",
        "# try문 안에서 여러 개의 오류를 처리하는 방법\n",
        "#\n",
        "'''\n",
        "try:\n",
        "    ...\n",
        "except 발생 오류1:\n",
        "   ... \n",
        "except 발생 오류2:\n",
        "   ...\n",
        "'''\n",
        "\n",
        "try:\n",
        "    a = [1,2]\n",
        "    print(a[2])\n",
        "    4/0\n",
        "except ZeroDivisionError:\n",
        "    print(\"0으로 나눌 수 없습니다.\")\n",
        "except IndexError:\n",
        "    print(\"인덱싱 할 수 없습니다.\")\n",
        "\n"
      ],
      "execution_count": 0,
      "outputs": [
        {
          "output_type": "stream",
          "text": [
            "인덱싱 할 수 없습니다.\n"
          ],
          "name": "stdout"
        }
      ]
    },
    {
      "cell_type": "code",
      "metadata": {
        "id": "yMRzwcxExvHT",
        "colab_type": "code",
        "outputId": "f73b11f4-8ccb-4d12-dc92-6e19c1703537",
        "colab": {
          "base_uri": "https://localhost:8080/",
          "height": 35
        }
      },
      "source": [
        "# 인덱싱 오류가 먼저 발생했으므로 \n",
        "# 4/0으로 발생되는 ZeroDivisionError 오류는 발생하지 않았다.\n",
        "\n",
        "try:\n",
        "    a = [1,2]\n",
        "    print(a[3])\n",
        "    4/0\n",
        "except ZeroDivisionError as e:\n",
        "    print(e)\n",
        "except IndexError as e:\n",
        "    print(e)\n"
      ],
      "execution_count": 0,
      "outputs": [
        {
          "output_type": "stream",
          "text": [
            "list index out of range\n"
          ],
          "name": "stdout"
        }
      ]
    },
    {
      "cell_type": "markdown",
      "metadata": {
        "id": "ujWYKYUFybYl",
        "colab_type": "text"
      },
      "source": [
        "### 2개 이상의 오류를 동시에 처리"
      ]
    },
    {
      "cell_type": "code",
      "metadata": {
        "id": "l-DVM-64yOTs",
        "colab_type": "code",
        "outputId": "35f6317d-8e32-46d4-c94a-09115f8f3343",
        "colab": {
          "base_uri": "https://localhost:8080/",
          "height": 35
        }
      },
      "source": [
        "# 2개 이상의 오류를 동시에 처리\n",
        "try:\n",
        "    a = [1,2]\n",
        "    print(a[3])\n",
        "    4/0\n",
        "except (ZeroDivisionError, IndexError) as e:\n",
        "    print(e)\n",
        "\n"
      ],
      "execution_count": 0,
      "outputs": [
        {
          "output_type": "stream",
          "text": [
            "list index out of range\n"
          ],
          "name": "stdout"
        }
      ]
    },
    {
      "cell_type": "markdown",
      "metadata": {
        "id": "fX1hzgCdyv1X",
        "colab_type": "text"
      },
      "source": [
        "### 오류 회피하기"
      ]
    },
    {
      "cell_type": "code",
      "metadata": {
        "id": "mpEAfYvJyg7y",
        "colab_type": "code",
        "outputId": "035634e9-349b-436b-8c46-c05b631098f9",
        "colab": {
          "base_uri": "https://localhost:8080/",
          "height": 35
        }
      },
      "source": [
        "print(\"오류 회피하기\")\n",
        "#######################################\n",
        "# 특정 오류가 발생할 경우 그냥 통과시키는 방법.\n",
        "#######################################\n",
        "#\n",
        "try:\n",
        "    f = open(\"나없는파일\", 'r')\n",
        "except FileNotFoundError:\n",
        "    pass\n",
        "\n"
      ],
      "execution_count": 0,
      "outputs": [
        {
          "output_type": "stream",
          "text": [
            "오류 회피하기\n"
          ],
          "name": "stdout"
        }
      ]
    },
    {
      "cell_type": "markdown",
      "metadata": {
        "id": "LOYB3ug-zBoa",
        "colab_type": "text"
      },
      "source": [
        "### 오류 일부러 발생시키기"
      ]
    },
    {
      "cell_type": "code",
      "metadata": {
        "id": "_myobJmdyytL",
        "colab_type": "code",
        "outputId": "9a6e5434-7ce1-45a8-c6f6-40b019e9dce7",
        "colab": {
          "base_uri": "https://localhost:8080/",
          "height": 352
        }
      },
      "source": [
        "print(\"오류 일부러 발생시키기\")\n",
        "#######################################\n",
        "# 일부러 발생시키는 오류\n",
        "# raise 오류 \n",
        "#######################################\n",
        "#\n",
        "# Bird 클래스를 상속받는 자식 클래스는 반드시 \n",
        "# fly라는 함수를 구현하도록 만들고 싶은 경우\n",
        "#\n",
        "class Bird:\n",
        "    def fly(self):\n",
        "        raise NotImplementedError\n",
        "\n",
        "\n",
        "# Bird 클래스를 상속받는 자식 클래스는 \n",
        "# 반드시 fly 함수를 구현해야 한다\n",
        "\n",
        "class Eagle(Bird):\n",
        "    pass\n",
        "\n",
        "eagle = Eagle()\n",
        "eagle.fly()\n"
      ],
      "execution_count": 0,
      "outputs": [
        {
          "output_type": "stream",
          "text": [
            "오류 일부러 발생시키기\n"
          ],
          "name": "stdout"
        },
        {
          "output_type": "error",
          "ename": "NotImplementedError",
          "evalue": "ignored",
          "traceback": [
            "\u001b[0;31m---------------------------------------------------------------------------\u001b[0m",
            "\u001b[0;31mNotImplementedError\u001b[0m                       Traceback (most recent call last)",
            "\u001b[0;32m<ipython-input-17-d968dd78b45b>\u001b[0m in \u001b[0;36m<module>\u001b[0;34m()\u001b[0m\n\u001b[1;32m     20\u001b[0m \u001b[0;34m\u001b[0m\u001b[0m\n\u001b[1;32m     21\u001b[0m \u001b[0meagle\u001b[0m \u001b[0;34m=\u001b[0m \u001b[0mEagle\u001b[0m\u001b[0;34m(\u001b[0m\u001b[0;34m)\u001b[0m\u001b[0;34m\u001b[0m\u001b[0;34m\u001b[0m\u001b[0m\n\u001b[0;32m---> 22\u001b[0;31m \u001b[0meagle\u001b[0m\u001b[0;34m.\u001b[0m\u001b[0mfly\u001b[0m\u001b[0;34m(\u001b[0m\u001b[0;34m)\u001b[0m\u001b[0;34m\u001b[0m\u001b[0;34m\u001b[0m\u001b[0m\n\u001b[0m",
            "\u001b[0;32m<ipython-input-17-d968dd78b45b>\u001b[0m in \u001b[0;36mfly\u001b[0;34m(self)\u001b[0m\n\u001b[1;32m     10\u001b[0m \u001b[0;32mclass\u001b[0m \u001b[0mBird\u001b[0m\u001b[0;34m:\u001b[0m\u001b[0;34m\u001b[0m\u001b[0;34m\u001b[0m\u001b[0m\n\u001b[1;32m     11\u001b[0m     \u001b[0;32mdef\u001b[0m \u001b[0mfly\u001b[0m\u001b[0;34m(\u001b[0m\u001b[0mself\u001b[0m\u001b[0;34m)\u001b[0m\u001b[0;34m:\u001b[0m\u001b[0;34m\u001b[0m\u001b[0;34m\u001b[0m\u001b[0m\n\u001b[0;32m---> 12\u001b[0;31m         \u001b[0;32mraise\u001b[0m \u001b[0mNotImplementedError\u001b[0m\u001b[0;34m\u001b[0m\u001b[0;34m\u001b[0m\u001b[0m\n\u001b[0m\u001b[1;32m     13\u001b[0m \u001b[0;34m\u001b[0m\u001b[0m\n\u001b[1;32m     14\u001b[0m \u001b[0;34m\u001b[0m\u001b[0m\n",
            "\u001b[0;31mNotImplementedError\u001b[0m: "
          ]
        }
      ]
    },
    {
      "cell_type": "code",
      "metadata": {
        "id": "EOSDaroZzbLI",
        "colab_type": "code",
        "outputId": "91635471-5a8f-4107-e93c-4ce46eb8150b",
        "colab": {
          "base_uri": "https://localhost:8080/",
          "height": 35
        }
      },
      "source": [
        "# NotImplementedError가 발생되지 않게 하려면 \n",
        "# 다음과 같이 Eagle 클래스에 fly 함수를 반드시 구현\n",
        "class Eagle(Bird):\n",
        "    def fly(self):\n",
        "        print(\"Eagle flies very fast\")\n",
        "\n",
        "eagle = Eagle()\n",
        "eagle.fly()\n"
      ],
      "execution_count": 0,
      "outputs": [
        {
          "output_type": "stream",
          "text": [
            "Eagle flies very fast\n"
          ],
          "name": "stdout"
        }
      ]
    },
    {
      "cell_type": "markdown",
      "metadata": {
        "id": "EQoeJqsu0Uf4",
        "colab_type": "text"
      },
      "source": [
        "## 사용자 정의 예외"
      ]
    },
    {
      "cell_type": "code",
      "metadata": {
        "id": "otA45CYGz4Yj",
        "colab_type": "code",
        "outputId": "df1a2071-ba8c-4095-c163-b5828ff1415b",
        "colab": {
          "base_uri": "https://localhost:8080/",
          "height": 89
        }
      },
      "source": [
        "print(\"예외 만들기: 사용자 정의 예외\")\n",
        "#######################################\n",
        "# 사용자가 정의해서 만들고 발생시키는 오류\n",
        "# 파이썬 내장 클래스인 Exception 클래스를 상속하여 만든다.\n",
        "# raise User_Error() \n",
        "#######################################\n",
        "#\n",
        "class MyError(Exception):\n",
        "    pass\n",
        "\n",
        "def say_nick(nick):\n",
        "    if nick == '바보':\n",
        "        raise MyError()\n",
        "    print(nick)\n",
        "\n",
        "#######################################\n",
        "print(\"사용자 정의 예외 처리\")\n",
        "#######################################\n",
        "try:\n",
        "    say_nick(\"천사\")\n",
        "    say_nick(\"바보\")\n",
        "except MyError:\n",
        "    print(\"허용되지 않는 별명입니다.\")\n"
      ],
      "execution_count": 0,
      "outputs": [
        {
          "output_type": "stream",
          "text": [
            "예외 만들기: 사용자 정의 예외\n",
            "사용자 정의 예외 처리\n",
            "천사\n",
            "허용되지 않는 별명입니다.\n"
          ],
          "name": "stdout"
        }
      ]
    },
    {
      "cell_type": "markdown",
      "metadata": {
        "id": "DFjXUUAN1I5e",
        "colab_type": "text"
      },
      "source": [
        "### 사용자 정의 예외 메시지 출력"
      ]
    },
    {
      "cell_type": "code",
      "metadata": {
        "id": "wjT0DJUe0y9N",
        "colab_type": "code",
        "outputId": "e9b49743-a381-4df4-95fe-a7abab427761",
        "colab": {
          "base_uri": "https://localhost:8080/",
          "height": 71
        }
      },
      "source": [
        "#######################################\n",
        "print(\"사용자 정의 예외 메시지 출력\")\n",
        "# 오류 메시지: __str__ 메서드를 구현\n",
        "#######################################\n",
        "class MyError(Exception):\n",
        "    def __str__(self):\n",
        "        return \"허용되지 않는 별명입니다.\"\n",
        "\n",
        "\n",
        "# \n",
        "try:\n",
        "    say_nick(\"천사\")\n",
        "    say_nick(\"바보\")\n",
        "except MyError as e:\n",
        "    print(e)\n"
      ],
      "execution_count": 0,
      "outputs": [
        {
          "output_type": "stream",
          "text": [
            "사용자 정의 예외 메시지 출력\n",
            "천사\n",
            "허용되지 않는 별명입니다.\n"
          ],
          "name": "stdout"
        }
      ]
    },
    {
      "cell_type": "markdown",
      "metadata": {
        "id": "u1RJqqfX2LGm",
        "colab_type": "text"
      },
      "source": [
        "### 12주 강의 종료"
      ]
    },
    {
      "cell_type": "markdown",
      "metadata": {
        "id": "_FeFg57_l0W3",
        "colab_type": "text"
      },
      "source": [
        "## 내장 함수"
      ]
    },
    {
      "cell_type": "markdown",
      "metadata": {
        "id": "InFiozTjVOrv",
        "colab_type": "text"
      },
      "source": [
        "- 내장 함수\n",
        "   - abs\n",
        "   - all, any\n",
        "   - chr\n",
        "   - dir\n",
        "   - divmod\n",
        "   - enumerate\n",
        "   - eval\n",
        "   - filter\n",
        "   - hex, oct\n",
        "   - id\n",
        "   - input\n",
        "   - int\n",
        "   - isinstance\n",
        "   - len\n",
        "   - list\n",
        "   - map\n",
        "   - max, min\n",
        "   - open\n",
        "   - ord\n",
        "   - pow\n",
        "   - range\n",
        "   - round\n",
        "   - sorted\n",
        "   - str\n",
        "   - sum\n",
        "   - tuple\n",
        "   - type\n",
        "   - zip"
      ]
    },
    {
      "cell_type": "code",
      "metadata": {
        "id": "-1H6FtDIVauP",
        "colab_type": "code",
        "outputId": "042490e0-21ce-4b0e-92ba-8057a5640446",
        "colab": {
          "base_uri": "https://localhost:8080/",
          "height": 35
        }
      },
      "source": [
        "# ch5_05_internal_functions.py\n",
        "#\n",
        "print(\"내장 함수\")\n",
        "#######################################\n",
        "#\n",
        "# 파이썬 내장 함수는 미리 준비된 내부 모듈\n",
        "# 외부 모듈과 달리 import가 필요하지 않다.\n",
        "#\n",
        "#######################################\n",
        "#\n"
      ],
      "execution_count": 0,
      "outputs": [
        {
          "output_type": "stream",
          "text": [
            "내장 함수\n"
          ],
          "name": "stdout"
        }
      ]
    },
    {
      "cell_type": "code",
      "metadata": {
        "id": "c1zpsc-VmEFB",
        "colab_type": "code",
        "outputId": "08ea9d7b-4f49-4b10-fcbc-14dce45250df",
        "colab": {
          "base_uri": "https://localhost:8080/",
          "height": 53
        }
      },
      "source": [
        "print(\"abs()\")\n",
        "#######################################\n",
        "# abs(x)는 어떤 숫자를 입력받았을 때,\n",
        "# 그 숫자의 절댓값을 돌려주는 함수\n",
        "#######################################\n",
        "#\n",
        "abs(3),abs(-3),abs(-1.2)\n"
      ],
      "execution_count": 0,
      "outputs": [
        {
          "output_type": "stream",
          "text": [
            "abs()\n"
          ],
          "name": "stdout"
        },
        {
          "output_type": "execute_result",
          "data": {
            "text/plain": [
              "(3, 3, 1.2)"
            ]
          },
          "metadata": {
            "tags": []
          },
          "execution_count": 2
        }
      ]
    },
    {
      "cell_type": "code",
      "metadata": {
        "id": "97JvzhPMmK4A",
        "colab_type": "code",
        "outputId": "ea91e967-6c18-4b76-f600-10418eafb2ea",
        "colab": {
          "base_uri": "https://localhost:8080/",
          "height": 53
        }
      },
      "source": [
        "print(\"all()\")\n",
        "###########################################################\n",
        "# all(x)는 반복 가능한(iterable) 자료형 x를 입력 인수로 받으며\n",
        "# 이 x가 모두 참이면 True, 거짓이 하나라도 있으면 False를 돌려준다.\n",
        "###########################################################\n",
        "#\n",
        "# all([1, 2, 3])\n",
        "all([0, 1, 2, 3])\n",
        "\n",
        "# 참고\n",
        "# bool([0, 1, 2, 3]), bool([0]), bool((0)), bool((0,))\n"
      ],
      "execution_count": 0,
      "outputs": [
        {
          "output_type": "stream",
          "text": [
            "all()\n"
          ],
          "name": "stdout"
        },
        {
          "output_type": "execute_result",
          "data": {
            "text/plain": [
              "False"
            ]
          },
          "metadata": {
            "tags": []
          },
          "execution_count": 6
        }
      ]
    },
    {
      "cell_type": "code",
      "metadata": {
        "id": "MceimEY7mWX1",
        "colab_type": "code",
        "outputId": "c1e4c2ed-49be-46ba-d6f1-4ccc5f860bc6",
        "colab": {
          "base_uri": "https://localhost:8080/",
          "height": 53
        }
      },
      "source": [
        "print(\"any()\")\n",
        "###########################################################\n",
        "# any(x)는 x 중 하나라도 참이 있으면 True를 돌려주고,\n",
        "# x가 모두 거짓일 때에만 False를 돌려준다. all(x)의 반대이다.\n",
        "###########################################################\n",
        "#\n",
        "any([0, 1, 2, 3])#,any([0,1],3)\n",
        "\n",
        "any([0, \"\"]) #, 1])\n"
      ],
      "execution_count": 0,
      "outputs": [
        {
          "output_type": "stream",
          "text": [
            "any()\n"
          ],
          "name": "stdout"
        },
        {
          "output_type": "execute_result",
          "data": {
            "text/plain": [
              "False"
            ]
          },
          "metadata": {
            "tags": []
          },
          "execution_count": 107
        }
      ]
    },
    {
      "cell_type": "code",
      "metadata": {
        "id": "hXhqx6yqm8Lj",
        "colab_type": "code",
        "outputId": "80f6ee43-2f62-4b7d-c7f2-2cc2a8441ca1",
        "colab": {
          "base_uri": "https://localhost:8080/",
          "height": 53
        }
      },
      "source": [
        "print(\"chr()\")\n",
        "###########################################################\n",
        "# chr(i)는 아스키(ASCII) 코드 값을 입력받아\n",
        "# 그 코드에 해당하는 문자를 출력하는 함수이다.\n",
        "###########################################################\n",
        "#\n",
        "chr(97),chr(48),chr(70)\n"
      ],
      "execution_count": 0,
      "outputs": [
        {
          "output_type": "stream",
          "text": [
            "chr()\n"
          ],
          "name": "stdout"
        },
        {
          "output_type": "execute_result",
          "data": {
            "text/plain": [
              "('a', '0', 'F')"
            ]
          },
          "metadata": {
            "tags": []
          },
          "execution_count": 12
        }
      ]
    },
    {
      "cell_type": "code",
      "metadata": {
        "id": "6P9U0uz8nojt",
        "colab_type": "code",
        "outputId": "f61a39b0-81ad-4d4e-e7b3-14808f17b55b",
        "colab": {
          "base_uri": "https://localhost:8080/",
          "height": 755
        }
      },
      "source": [
        "print(\"dir()\")\n",
        "###########################################################\n",
        "# dir은 객체가 자체적으로 가지고 있는 변수나 함수를 보여 준다.\n",
        "###########################################################\n",
        "#\n",
        "# dir([1, 2, 3])  # list object\n",
        "\n",
        "dir({\"1\": \"a\"})  # dict object\n",
        "# type({\"1\": \"a\"})\n"
      ],
      "execution_count": 0,
      "outputs": [
        {
          "output_type": "stream",
          "text": [
            "dir()\n"
          ],
          "name": "stdout"
        },
        {
          "output_type": "execute_result",
          "data": {
            "text/plain": [
              "['__class__',\n",
              " '__contains__',\n",
              " '__delattr__',\n",
              " '__delitem__',\n",
              " '__dir__',\n",
              " '__doc__',\n",
              " '__eq__',\n",
              " '__format__',\n",
              " '__ge__',\n",
              " '__getattribute__',\n",
              " '__getitem__',\n",
              " '__gt__',\n",
              " '__hash__',\n",
              " '__init__',\n",
              " '__init_subclass__',\n",
              " '__iter__',\n",
              " '__le__',\n",
              " '__len__',\n",
              " '__lt__',\n",
              " '__ne__',\n",
              " '__new__',\n",
              " '__reduce__',\n",
              " '__reduce_ex__',\n",
              " '__repr__',\n",
              " '__setattr__',\n",
              " '__setitem__',\n",
              " '__sizeof__',\n",
              " '__str__',\n",
              " '__subclasshook__',\n",
              " 'clear',\n",
              " 'copy',\n",
              " 'fromkeys',\n",
              " 'get',\n",
              " 'items',\n",
              " 'keys',\n",
              " 'pop',\n",
              " 'popitem',\n",
              " 'setdefault',\n",
              " 'update',\n",
              " 'values']"
            ]
          },
          "metadata": {
            "tags": []
          },
          "execution_count": 14
        }
      ]
    },
    {
      "cell_type": "code",
      "metadata": {
        "id": "hNdTtf4JnuGf",
        "colab_type": "code",
        "outputId": "a18a15a4-3f0f-4513-8f29-c9fbe27ef6f3",
        "colab": {
          "base_uri": "https://localhost:8080/",
          "height": 53
        }
      },
      "source": [
        "print(\"divmod()\")\n",
        "###########################################################\n",
        "# divmod(a, b)는 2개의 숫자를 입력으로 받는다.\n",
        "# 그리고 a를 b로 나눈 몫과 나머지를 튜플 형태로 돌려주는 함수\n",
        "###########################################################\n",
        "#\n",
        "divmod(7, 3)  # 결과값을 tuple로 반환\n"
      ],
      "execution_count": 0,
      "outputs": [
        {
          "output_type": "stream",
          "text": [
            "divmod()\n"
          ],
          "name": "stdout"
        },
        {
          "output_type": "execute_result",
          "data": {
            "text/plain": [
              "(2, 1)"
            ]
          },
          "metadata": {
            "tags": []
          },
          "execution_count": 15
        }
      ]
    },
    {
      "cell_type": "code",
      "metadata": {
        "id": "jSrjGv6goKxI",
        "colab_type": "code",
        "outputId": "e6bb5a16-3c9c-4813-aaf5-1fd4a7be0caf",
        "colab": {
          "base_uri": "https://localhost:8080/",
          "height": 89
        }
      },
      "source": [
        "print(\"enumerate()\")\n",
        "###########################################################\n",
        "# enumerate는 \"열거하다\"라는 뜻이다.\n",
        "# 이 함수는 순서가 있는 자료형(리스트, 튜플, 문자열)을 입력으로\n",
        "# 받아 인덱스 값을 포함하는 enumerate 객체를 돌려준다.\n",
        "###########################################################\n",
        "#\n",
        "for i, name in enumerate([\"body\", \"foo\", \"bar\"]):\n",
        "    print(i, name)\n"
      ],
      "execution_count": 0,
      "outputs": [
        {
          "output_type": "stream",
          "text": [
            "enumerate()\n",
            "0 body\n",
            "1 foo\n",
            "2 bar\n"
          ],
          "name": "stdout"
        }
      ]
    },
    {
      "cell_type": "code",
      "metadata": {
        "id": "JCvN0zr-oYXy",
        "colab_type": "code",
        "outputId": "c8a1f596-8f63-4100-fa0f-cde56ceaed9b",
        "colab": {
          "base_uri": "https://localhost:8080/",
          "height": 53
        }
      },
      "source": [
        "print(\"eval()\")\n",
        "###########################################################\n",
        "# eval(expression )은 실행 가능한 문자열(1+2, 'hi' + 'a' 같은 것)을\n",
        "# 입력으로 받아 문자열을 실행한 결괏값을 돌려주는 함수\n",
        "###########################################################\n",
        "#\n",
        "eval(\"1+2\"),eval(\"'hc' + 'it'\"),eval(\"divmod(4, 3)\")\n"
      ],
      "execution_count": 0,
      "outputs": [
        {
          "output_type": "stream",
          "text": [
            "eval()\n"
          ],
          "name": "stdout"
        },
        {
          "output_type": "execute_result",
          "data": {
            "text/plain": [
              "(3, 'hcit', (1, 1))"
            ]
          },
          "metadata": {
            "tags": []
          },
          "execution_count": 18
        }
      ]
    },
    {
      "cell_type": "markdown",
      "metadata": {
        "id": "3wE8xfJUo2ME",
        "colab_type": "text"
      },
      "source": [
        "### filter"
      ]
    },
    {
      "cell_type": "code",
      "metadata": {
        "id": "17fd4Y9dolbz",
        "colab_type": "code",
        "outputId": "b5230678-91ea-40ce-faec-9209ffad35db",
        "colab": {
          "base_uri": "https://localhost:8080/",
          "height": 53
        }
      },
      "source": [
        "print(\"filter()\")  # ***\n",
        "###########################################################\n",
        "# filter 함수는 첫 번째 인수로 함수 이름을,\n",
        "# 두 번째 인수로 그 함수에 차례로 들어갈 반복 가능한 자료형을 받는다.\n",
        "# 그리고 두 번째 인수인 반복 가능한 자료형 요소가 첫 번째 인수인\n",
        "# 함수에 입력되었을 때 반환 값이 참인 것만 묶어서(걸러 내서) 돌려준다.\n",
        "###########################################################\n",
        "#\n",
        "# positive.py\n",
        "def positive(l):\n",
        "    result = []\n",
        "    for i in l:\n",
        "        if i > 0:\n",
        "            result.append(i)\n",
        "    return result\n",
        "\n",
        "\n",
        "print(positive([1, -3, 2, 0, -5, 6]))\n"
      ],
      "execution_count": 0,
      "outputs": [
        {
          "output_type": "stream",
          "text": [
            "filter()\n",
            "[1, 2, 6]\n"
          ],
          "name": "stdout"
        }
      ]
    },
    {
      "cell_type": "code",
      "metadata": {
        "id": "xrx9Z6pkpBrd",
        "colab_type": "code",
        "outputId": "bf5dac57-c3d7-462c-b892-6da980f65165",
        "colab": {
          "base_uri": "https://localhost:8080/",
          "height": 35
        }
      },
      "source": [
        "\n",
        "# filter() 함수 이용\n",
        "# filter1.py\n",
        "def positive(x):\n",
        "    return x > 0\n",
        "\n",
        "\n",
        "list(filter(positive, [1, -3, 2, 0, -5, 6]))\n"
      ],
      "execution_count": 0,
      "outputs": [
        {
          "output_type": "execute_result",
          "data": {
            "text/plain": [
              "[1, 2, 6]"
            ]
          },
          "metadata": {
            "tags": []
          },
          "execution_count": 20
        }
      ]
    },
    {
      "cell_type": "markdown",
      "metadata": {
        "id": "eSRx34Nmppw8",
        "colab_type": "text"
      },
      "source": [
        "### filter by lambda function"
      ]
    },
    {
      "cell_type": "code",
      "metadata": {
        "id": "MKpqXLdVpVSI",
        "colab_type": "code",
        "colab": {}
      },
      "source": [
        "\n",
        "# lambda를 사용하면 더욱 간편하게 코드를 작성할 수 있다.\n",
        "\n",
        "list(filter(lambda x: x > 0, [1, -3, 2, 0, -5, 6]))\n",
        "###########################################################\n"
      ],
      "execution_count": 0,
      "outputs": []
    },
    {
      "cell_type": "code",
      "metadata": {
        "id": "4j_NvSR3ppDN",
        "colab_type": "code",
        "colab": {}
      },
      "source": [
        "\n",
        "\n",
        "print(\"hex()\")\n",
        "###########################################################\n",
        "# hex(x)는 정수 값을 입력받아 16진수(hexadecimal)로\n",
        "# 변환하여 돌려주는 함수\n",
        "###########################################################\n",
        "#\n",
        "hex(10)\n",
        "hex(234)\n",
        "\n",
        "\n",
        "print(\"id()\")\n",
        "###########################################################\n",
        "# d(object)는 객체를 입력받아 객체의 고유 주소 값(레퍼런스)을 돌려주는 함수\n",
        "###########################################################\n",
        "#\n",
        "a = 3\n",
        "id(3)\n",
        "id(a)\n",
        "b = a\n",
        "id(b)\n",
        "id(4)  # different address\n",
        "\n",
        "\n",
        "print(\"input()\")\n",
        "###########################################################\n",
        "# input([prompt])은 사용자 입력을 받는 함수이다.\n",
        "# 매개변수로 문자열을 주면, 그 문자열은 프롬프트가 된다.\n",
        "###########################################################\n",
        "#\n",
        "a = input()\n",
        "b = input(\"Enter: \")\n",
        "b\n",
        "\n",
        "\n",
        "print(\"int()\")\n",
        "###########################################################\n",
        "# int(x)는 문자열 형태의 숫자나 소수점이 있는 숫자 등을\n",
        "# 정수 형태로 돌려주는 함수\n",
        "###########################################################\n",
        "#\n",
        "int(3)\n",
        "int(\"3\")\n",
        "int(3.14)\n"
      ],
      "execution_count": 0,
      "outputs": []
    },
    {
      "cell_type": "code",
      "metadata": {
        "id": "2UXZzcUrqaKM",
        "colab_type": "code",
        "outputId": "a5795cf4-f035-4b87-d826-b394bd238cb9",
        "colab": {
          "base_uri": "https://localhost:8080/",
          "height": 35
        }
      },
      "source": [
        "\n",
        "# int(x, radix)는 radix 진수로 표현된 문자열 x를 10진수로 변환\n",
        "int(\"11\", 2)\n",
        "# int(11, 2)  # TypeError:\n",
        "\n",
        "int(\"F\", 16)\n"
      ],
      "execution_count": 0,
      "outputs": [
        {
          "output_type": "execute_result",
          "data": {
            "text/plain": [
              "15"
            ]
          },
          "metadata": {
            "tags": []
          },
          "execution_count": 23
        }
      ]
    },
    {
      "cell_type": "code",
      "metadata": {
        "id": "2wXLgyG1qeVr",
        "colab_type": "code",
        "outputId": "b7044c1b-6051-4621-e267-4437f6c630a5",
        "colab": {
          "base_uri": "https://localhost:8080/",
          "height": 53
        }
      },
      "source": [
        "print(\"isinstance()\")\n",
        "###########################################################\n",
        "# isinstance(object, class )는 첫 번째 인수로 인스턴스,\n",
        "# 두 번째 인수로 클래스 이름을 받는다.\n",
        "# 입력으로 받은 인스턴스가 그 클래스의 인스턴스인지를 판단하여\n",
        "# 참이면 True, 거짓이면 False를 돌려준다.\n",
        "###########################################################\n",
        "#\n",
        "class Person:\n",
        "    pass\n",
        "\n",
        "\n",
        "a = Person()\n",
        "isinstance(a, Person)\n",
        "\n",
        "b = 3\n",
        "isinstance(b, Person)\n"
      ],
      "execution_count": 0,
      "outputs": [
        {
          "output_type": "stream",
          "text": [
            "isinstance()\n"
          ],
          "name": "stdout"
        },
        {
          "output_type": "execute_result",
          "data": {
            "text/plain": [
              "False"
            ]
          },
          "metadata": {
            "tags": []
          },
          "execution_count": 24
        }
      ]
    },
    {
      "cell_type": "code",
      "metadata": {
        "id": "IDpuz2x_qyuW",
        "colab_type": "code",
        "colab": {}
      },
      "source": [
        "print(\"len()\")\n",
        "###########################################################\n",
        "# len(s)은 입력값 s의 길이(요소의 전체 개수)를 돌려주는 함수이다.\n",
        "###########################################################\n",
        "#\n",
        "len(\"python\")\n",
        "len([1, 2, 3])\n",
        "len((1, \"a\"))\n",
        "len({a: 3})\n",
        "\n",
        "\n",
        "print(\"list()\")\n",
        "###########################################################\n",
        "# list(s)는 반복 가능한 자료형 s를 입력받아\n",
        "# 리스트로 만들어 돌려주는 함수\n",
        "###########################################################\n",
        "#\n",
        "list(\"python\")\n",
        "list((1, 2, 3))\n",
        "\n"
      ],
      "execution_count": 0,
      "outputs": []
    },
    {
      "cell_type": "markdown",
      "metadata": {
        "id": "FmSkSMJzrEs4",
        "colab_type": "text"
      },
      "source": [
        "### map 함수"
      ]
    },
    {
      "cell_type": "code",
      "metadata": {
        "id": "xWYLEPNurEEe",
        "colab_type": "code",
        "outputId": "96b8cb65-2bf1-4167-dc13-3ea4a906d1cb",
        "colab": {
          "base_uri": "https://localhost:8080/",
          "height": 53
        }
      },
      "source": [
        "print(\"map()\")  # ***\n",
        "###########################################################\n",
        "# map(f, iterable)은 함수(f)와 반복 가능한(iterable) 자료형을\n",
        "# 입력으로 받는다.\n",
        "# map은 입력받은 자료형의 각 요소를 함수 f가 수행한 결과를\n",
        "# 묶어서 돌려주는 함수\n",
        "###########################################################\n",
        "#\n",
        "# two_times.py\n",
        "def two_times(numberList):\n",
        "    result = []\n",
        "    for number in numberList:\n",
        "        result.append(number * 2)\n",
        "    return result\n",
        "\n",
        "\n",
        "result = two_times([1, 2, 3, 4])\n",
        "print(result)\n"
      ],
      "execution_count": 0,
      "outputs": [
        {
          "output_type": "stream",
          "text": [
            "map()\n",
            "[2, 4, 6, 8]\n"
          ],
          "name": "stdout"
        }
      ]
    },
    {
      "cell_type": "code",
      "metadata": {
        "id": "oXRqJlbtrUsz",
        "colab_type": "code",
        "outputId": "034ef722-95ba-4740-93e4-72d48f563f58",
        "colab": {
          "base_uri": "https://localhost:8080/",
          "height": 53
        }
      },
      "source": [
        "\n",
        "# map 함수를 사용\n",
        "def two_times(x):\n",
        "    return x * 2\n",
        "\n",
        "\n",
        "print(list(map(two_times, [1, 2, 3, 4])))\n",
        "\n",
        "# lambda를 사용\n",
        "list(map(lambda a: a * 2, [1, 2, 3, 4]))\n",
        "###########################################################\n"
      ],
      "execution_count": 0,
      "outputs": [
        {
          "output_type": "stream",
          "text": [
            "[2, 4, 6, 8]\n"
          ],
          "name": "stdout"
        },
        {
          "output_type": "execute_result",
          "data": {
            "text/plain": [
              "[2, 4, 6, 8]"
            ]
          },
          "metadata": {
            "tags": []
          },
          "execution_count": 28
        }
      ]
    },
    {
      "cell_type": "code",
      "metadata": {
        "id": "GEQV-bE2rb7E",
        "colab_type": "code",
        "outputId": "728df3eb-d41e-4c77-9a36-124218771123",
        "colab": {
          "base_uri": "https://localhost:8080/",
          "height": 53
        }
      },
      "source": [
        "print(\"max()\")\n",
        "###########################################################\n",
        "# max(iterable)는 인수로 반복 가능한 자료형을 입력받아\n",
        "# 그 최댓값을 돌려주는 함수\n",
        "###########################################################\n",
        "#\n",
        "# max([1, 2, 3])\n",
        "max(\"python\")\n",
        "max(list(range(10)))\n",
        "# max(range(10))\n"
      ],
      "execution_count": 0,
      "outputs": [
        {
          "output_type": "stream",
          "text": [
            "max()\n"
          ],
          "name": "stdout"
        },
        {
          "output_type": "execute_result",
          "data": {
            "text/plain": [
              "9"
            ]
          },
          "metadata": {
            "tags": []
          },
          "execution_count": 31
        }
      ]
    },
    {
      "cell_type": "code",
      "metadata": {
        "id": "NVdOk58er5Ym",
        "colab_type": "code",
        "colab": {}
      },
      "source": [
        "\n",
        "\n",
        "print(\"min()\")\n",
        "###########################################################\n",
        "# min(iterable)은 max 함수와 반대로, 인수로 반복 가능한\n",
        "# 자료형을 입력받아 그 최솟값을 돌려주는 함수\n",
        "###########################################################\n",
        "#\n",
        "min([1, 2, 3])\n",
        "min(\"python\")\n",
        "min(range(10))\n",
        "\n",
        "\n",
        "print(\"oct()\")\n",
        "###########################################################\n",
        "# oct(x)는 정수 형태의 숫자를 8진수 문자열로 바꾸어 돌려주는 함수\n",
        "###########################################################\n",
        "#\n",
        "oct(9)\n",
        "oct(12345)\n",
        "\n"
      ],
      "execution_count": 0,
      "outputs": []
    },
    {
      "cell_type": "code",
      "metadata": {
        "id": "4uwytuDk_oW4",
        "colab_type": "code",
        "colab": {}
      },
      "source": [
        "\n",
        "print(\"ord()\")\n",
        "###########################################################\n",
        "# ord(c)는 문자의 아스키 코드 값을 돌려주는 함수\n",
        "# ※ ord 함수는 chr 함수와 반대이다.\n",
        "###########################################################\n",
        "#\n",
        "ord(\"a\")  # chr(97)\n",
        "ord(\"0\")\n"
      ],
      "execution_count": 0,
      "outputs": []
    },
    {
      "cell_type": "code",
      "metadata": {
        "id": "_cx9deHgsZgj",
        "colab_type": "code",
        "outputId": "20219d95-2bb8-48e0-aa51-2e11269f876e",
        "colab": {
          "base_uri": "https://localhost:8080/",
          "height": 71
        }
      },
      "source": [
        "print(\"pow()\")\n",
        "###########################################################\n",
        "# pow(x, y)는 x의 y 제곱한 결괏값을 돌려주는 함수\n",
        "###########################################################\n",
        "#\n",
        "pow(2, 4)  # 2**4\n",
        "pow(3, 4)  # 3**4\n",
        "\n",
        "\n",
        "print(\"range()\")  # ***\n",
        "###########################################################\n",
        "# range([start,] stop [,step] )는 for문과 함께 자주 사용하는 함수\n",
        "# 이 함수는 입력받은 숫자에 해당하는 범위 값을 반복 가능한 객체로\n",
        "# 만들어 돌려준다.\n",
        "###########################################################\n",
        "#\n",
        "# 인수가 하나일 경우\n",
        "list(range(5))\n",
        "\n",
        "# 인수가 2개일 경우\n",
        "list(range(5, 10))\n",
        "\n",
        "# 인수가 3개일 경우\n",
        "list(range(1, 10, 2))\n",
        "\n",
        "list(range(0, -10, -1))\n"
      ],
      "execution_count": 0,
      "outputs": [
        {
          "output_type": "stream",
          "text": [
            "pow()\n",
            "range()\n"
          ],
          "name": "stdout"
        },
        {
          "output_type": "execute_result",
          "data": {
            "text/plain": [
              "[0, -1, -2, -3, -4, -5, -6, -7, -8, -9]"
            ]
          },
          "metadata": {
            "tags": []
          },
          "execution_count": 32
        }
      ]
    },
    {
      "cell_type": "code",
      "metadata": {
        "id": "vLprdZiGsfKa",
        "colab_type": "code",
        "outputId": "f3970361-27c0-448a-a215-e901f113e3e2",
        "colab": {
          "base_uri": "https://localhost:8080/",
          "height": 53
        }
      },
      "source": [
        "print(\"round()\")\n",
        "###########################################################\n",
        "# round(number[, ndigits]) 함수는 숫자를 입력받아 반올림해 주는 함수\n",
        "# ※ [, ndigits]는 ndigits가 있을 수도 있고 없을 수도 있다는 의미이다.\n",
        "###########################################################\n",
        "#\n",
        "round(4.6),round(4.2)\n",
        "\n",
        "# 소수점 2자리까지만 반올림\n",
        "round(5.678, 2)\n"
      ],
      "execution_count": 0,
      "outputs": [
        {
          "output_type": "stream",
          "text": [
            "round()\n"
          ],
          "name": "stdout"
        },
        {
          "output_type": "execute_result",
          "data": {
            "text/plain": [
              "5.68"
            ]
          },
          "metadata": {
            "tags": []
          },
          "execution_count": 35
        }
      ]
    },
    {
      "cell_type": "markdown",
      "metadata": {
        "id": "zSHQ1yxNsyVk",
        "colab_type": "text"
      },
      "source": [
        "### sorted()"
      ]
    },
    {
      "cell_type": "code",
      "metadata": {
        "id": "4oA8SPNDspCg",
        "colab_type": "code",
        "outputId": "f4a8dc86-81b3-4fb5-9611-aff897a880db",
        "colab": {
          "base_uri": "https://localhost:8080/",
          "height": 53
        }
      },
      "source": [
        "print(\"sorted()\")  # ***\n",
        "###########################################################\n",
        "# sorted(iterable) 함수는 입력값을 정렬한 후\n",
        "# 그 결과를 리스트로 돌려주는 함수\n",
        "# 'reverse' 속성으로 정렬순서 반전\n",
        "###########################################################\n",
        "#\n",
        "sorted([3, 1, 2]),sorted([3, 1, 2], reverse=True)\n",
        "\n",
        "sorted([\"a\", \"c\", \"b\"]),sorted([\"a\", \"c\", \"b\"], reverse=True)\n",
        "sorted([\"a\", \"c\", \"b\",\"Z\"])\n",
        "sorted(\"zero\"),sorted((3, 2, 1))  # list로 반환!!!\n",
        "###########################################################\n"
      ],
      "execution_count": 0,
      "outputs": [
        {
          "output_type": "stream",
          "text": [
            "sorted()\n"
          ],
          "name": "stdout"
        },
        {
          "output_type": "execute_result",
          "data": {
            "text/plain": [
              "(['e', 'o', 'r', 'z'], [1, 2, 3])"
            ]
          },
          "metadata": {
            "tags": []
          },
          "execution_count": 112
        }
      ]
    },
    {
      "cell_type": "code",
      "metadata": {
        "id": "2RQWxby4s3Ww",
        "colab_type": "code",
        "outputId": "d0bdb56f-b0f1-4ea6-88e2-cdce8c4e7ba0",
        "colab": {
          "base_uri": "https://localhost:8080/",
          "height": 125
        }
      },
      "source": [
        "\n",
        "\n",
        "print(\"str()\")\n",
        "###########################################################\n",
        "# str(object)은 문자열 형태로 객체를 변환하여 돌려주는 함수\n",
        "###########################################################\n",
        "#\n",
        "str(3)\n",
        "str(100)\n",
        "str(\"hello\".upper())\n",
        "\n",
        "\n",
        "print(\"sum()\")\n",
        "###########################################################\n",
        "# sum(iterable) 은 입력받은 리스트나 튜플의\n",
        "# 모든 요소의 합을 돌려주는 함수\n",
        "###########################################################\n",
        "#\n",
        "sum([1, 2, 3])\n",
        "sum((4, 5, 6))\n",
        "\n",
        "\n",
        "print(\"tuple()\")\n",
        "###########################################################\n",
        "# tuple(iterable)은 반복 가능한 자료형을 입력받아\n",
        "# 튜플 형태로 바꾸어 돌려주는 함수\n",
        "###########################################################\n",
        "#\n",
        "tuple(\"abc\")\n",
        "tuple([1, 2, 3])\n",
        "\n",
        "\n",
        "print(\"type()\")\n",
        "###########################################################\n",
        "# type(object)은 입력값의 자료형이 무엇인지 알려 주는 함수\n",
        "###########################################################\n",
        "#\n",
        "type(\"abc\")\n",
        "type([])\n",
        "type({a: 4})\n",
        "type(open(\"test\", \"w\"))\n",
        "\n",
        "\n",
        "print(\"zip()\")  # ***\n",
        "###########################################################\n",
        "# zip(*iterable)은 동일한 개수로 이루어진 자료형을\n",
        "# 묶어 주는 역할을 하는 함수\n",
        "###########################################################\n",
        "#\n",
        "list(zip([1, 2, 3], [4, 5, 6]))\n",
        "list(zip([1, 2, 3], [4, 5, 6], [7, 8, 9]))\n",
        "list(zip(\"abc\", \"def\"))\n",
        "list(zip([1, 2, 3], \"def\"))\n",
        "\n",
        "############## The END  ##############\n"
      ],
      "execution_count": 0,
      "outputs": [
        {
          "output_type": "stream",
          "text": [
            "str()\n",
            "sum()\n",
            "tuple()\n",
            "type()\n",
            "zip()\n"
          ],
          "name": "stdout"
        },
        {
          "output_type": "execute_result",
          "data": {
            "text/plain": [
              "[(1, 'd'), (2, 'e'), (3, 'f')]"
            ]
          },
          "metadata": {
            "tags": []
          },
          "execution_count": 113
        }
      ]
    },
    {
      "cell_type": "markdown",
      "metadata": {
        "id": "44wFlIE_Iyzh",
        "colab_type": "text"
      },
      "source": [
        "### 파이썬 중요 함수 정리\n",
        "> https://wayhome25.github.io/cs/2017/04/03/cs-03/"
      ]
    },
    {
      "cell_type": "markdown",
      "metadata": {
        "id": "RMLQd0mXJaqm",
        "colab_type": "text"
      },
      "source": [
        "# 외장 함수"
      ]
    },
    {
      "cell_type": "markdown",
      "metadata": {
        "id": "DFZHMh5pVq82",
        "colab_type": "text"
      },
      "source": [
        "- 외장 함수\n",
        "   - sys\n",
        "   - pickle\n",
        "   - os\n",
        "   - shutil\n",
        "   - glob\n",
        "   - tempfile\n",
        "   - time\n",
        "   - calendar\n",
        "   - random\n",
        "   - webbrowser"
      ]
    },
    {
      "cell_type": "code",
      "metadata": {
        "id": "fGBlcLGN-3pd",
        "colab_type": "code",
        "outputId": "8c59c465-aa6e-467f-b5c9-d12524e9bdb9",
        "colab": {
          "base_uri": "https://localhost:8080/",
          "height": 35
        }
      },
      "source": [
        "# ch5_06_external_functions.py\n",
        "#\n",
        "print(\"외장 함수\")\n",
        "###########################################################\n",
        "# 파이썬 사용자들이 만든 유용한 프로그램을 모아 놓은 것이\n",
        "# 바로 파이썬 라이브러리\n",
        "# 외장 모듈은 'import module_name' 형식으로 불러와서 사용\n",
        "###########################################################\n",
        "#\n"
      ],
      "execution_count": 0,
      "outputs": [
        {
          "output_type": "stream",
          "text": [
            "외장 함수\n"
          ],
          "name": "stdout"
        }
      ]
    },
    {
      "cell_type": "markdown",
      "metadata": {
        "id": "fC5-lFoHKFHm",
        "colab_type": "text"
      },
      "source": [
        "### os 모듈"
      ]
    },
    {
      "cell_type": "code",
      "metadata": {
        "id": "yhLNNlxqwrQl",
        "colab_type": "code",
        "outputId": "d8f100e4-c986-4a32-a1bf-4328a1ae2d18",
        "colab": {
          "base_uri": "https://localhost:8080/",
          "height": 53
        }
      },
      "source": [
        "\n",
        "print(\"os\")  # ***\n",
        "###########################################################\n",
        "# OS 모듈은 환경 변수나 디렉터리, 파일 등의 OS 자원을\n",
        "# 제어할 수 있게 해주는 모듈\n",
        "###########################################################\n",
        "#\n",
        "# 내 시스템의 환경 변수값을 알고 싶을 때 - os.environ\n",
        "import os\n",
        "\n",
        "os.environ\n",
        "\n",
        "# 시스템의 PATH 환경 변수 내용\n",
        "os.environ[\"PATH\"]\n",
        "\n",
        "# 현재 디렉터리 위치 확인 - os.getcwd()\n",
        "os.getcwd()\n",
        "\n",
        "# 시스템 명령어 호출하기 - os.system\n",
        "# os.system(\"dir\")\n",
        "\n",
        "# 디렉터리 위치 변경하기 - os.chdir('directory')\n",
        "# os.chdir(\"ch05\")\n",
        "\n",
        "# 기타 유용한 os 관련 함수\n",
        "# os.mkdir(디렉터리)\n",
        "# os.rmdir(디렉터리)\n",
        "# os.rename(src, dst)\n"
      ],
      "execution_count": 0,
      "outputs": [
        {
          "output_type": "stream",
          "text": [
            "os\n"
          ],
          "name": "stdout"
        },
        {
          "output_type": "execute_result",
          "data": {
            "text/plain": [
              "'/content'"
            ]
          },
          "metadata": {
            "tags": []
          },
          "execution_count": 39
        }
      ]
    },
    {
      "cell_type": "markdown",
      "metadata": {
        "id": "sPAC0TGTxUe5",
        "colab_type": "text"
      },
      "source": [
        "### sys 모듈"
      ]
    },
    {
      "cell_type": "code",
      "metadata": {
        "id": "Fb7TgRdrwvyD",
        "colab_type": "code",
        "colab": {}
      },
      "source": [
        "print(\"sys\")  # ***\n",
        "###########################################################\n",
        "# sys 모듈은 파이썬 인터프리터가 제공하는 변수와 함수를\n",
        "# 직접 제어할 수 있게 해주는 모듈\n",
        "###########################################################\n",
        "#\n",
        "# argv_test.py\n",
        "import sys\n",
        "\n",
        "print(sys.argv)\n",
        "\n",
        "# 강제로 스크립트 종료하기 - sys.exit\n",
        "import sys\n",
        "\n",
        "sys.exit()  # ^Z\n",
        "\n"
      ],
      "execution_count": 0,
      "outputs": []
    },
    {
      "cell_type": "code",
      "metadata": {
        "id": "yDemofc4xlF8",
        "colab_type": "code",
        "colab": {}
      },
      "source": [
        "import sys\n",
        "\n",
        "sys.path\n",
        "\n",
        "import os\n",
        "\n",
        "os.getcwd()\n",
        "\n",
        "# import sys\n",
        "\n",
        "sys.path.append(\"C:/doit/mymod\")\n",
        "# C:/doit/Mymod 디렉터리에 있는 파이썬 모듈을 불러와서 사용.\n"
      ],
      "execution_count": 0,
      "outputs": []
    },
    {
      "cell_type": "code",
      "metadata": {
        "id": "ukeknGsWyCsZ",
        "colab_type": "code",
        "outputId": "9d23ff29-10d6-49b6-f2dd-d0e7a74e8514",
        "colab": {
          "base_uri": "https://localhost:8080/",
          "height": 197
        }
      },
      "source": [
        "sys.path"
      ],
      "execution_count": 0,
      "outputs": [
        {
          "output_type": "execute_result",
          "data": {
            "text/plain": [
              "['',\n",
              " '/env/python',\n",
              " '/usr/lib/python36.zip',\n",
              " '/usr/lib/python3.6',\n",
              " '/usr/lib/python3.6/lib-dynload',\n",
              " '/usr/local/lib/python3.6/dist-packages',\n",
              " '/usr/lib/python3/dist-packages',\n",
              " '/usr/local/lib/python3.6/dist-packages/IPython/extensions',\n",
              " '/root/.ipython',\n",
              " 'C:/doit/mymod']"
            ]
          },
          "metadata": {
            "tags": []
          },
          "execution_count": 43
        }
      ]
    },
    {
      "cell_type": "markdown",
      "metadata": {
        "id": "6lJc1p-yyZUz",
        "colab_type": "text"
      },
      "source": [
        "### pickle 모듈"
      ]
    },
    {
      "cell_type": "code",
      "metadata": {
        "id": "7te6Ps5MxucW",
        "colab_type": "code",
        "outputId": "564af17f-ec50-41cd-d0c8-6dee81bba22d",
        "colab": {
          "base_uri": "https://localhost:8080/",
          "height": 53
        }
      },
      "source": [
        "print(\"pickle\")\n",
        "###########################################################\n",
        "# pickle은 객체의 형태를 그대로 유지하면서 파일에 저장하고\n",
        "# 불러올 수 있게 하는 모듈\n",
        "###########################################################\n",
        "#\n",
        "import pickle\n",
        "\n",
        "# 객체 그대로 유지하면서 파일에 저장\n",
        "f = open(\"test.txt\", \"wb\")\n",
        "data = {1: \"python\", 2: \"you need\"}\n",
        "pickle.dump(data, f)\n",
        "f.close()\n",
        "\n",
        "\n",
        "# pickle.load를 사용해서 원래 있던 딕셔너리 객체(data) 상태 그대로 불러오기\n",
        "f = open(\"test.txt\", \"rb\")\n",
        "data = pickle.load(f)\n",
        "f.close()\n",
        "\n",
        "print(data)\n",
        "# pickle 모듈로 어떤 자료형이든 저장하고 불러올 수 있다.\n"
      ],
      "execution_count": 0,
      "outputs": [
        {
          "output_type": "stream",
          "text": [
            "pickle\n",
            "{1: 'python', 2: 'you need'}\n"
          ],
          "name": "stdout"
        }
      ]
    },
    {
      "cell_type": "code",
      "metadata": {
        "id": "N9OobiM2ygg8",
        "colab_type": "code",
        "outputId": "be79dffb-0130-40ca-801d-3596bf4eeb08",
        "colab": {
          "base_uri": "https://localhost:8080/",
          "height": 53
        }
      },
      "source": [
        "print(\"shutil\")\n",
        "###########################################################\n",
        "# shutil은 파일을 복사해 주는 파이썬 모듈\n",
        "###########################################################\n",
        "#\n",
        "import shutil\n",
        "\n",
        "os.system(\"dir\")\n",
        "shutil.copy(\"test.txt\", \"zest.txt\")\n",
        "os.system(\"dir\")  # 확인\n"
      ],
      "execution_count": 0,
      "outputs": [
        {
          "output_type": "stream",
          "text": [
            "shutil\n"
          ],
          "name": "stdout"
        },
        {
          "output_type": "execute_result",
          "data": {
            "text/plain": [
              "0"
            ]
          },
          "metadata": {
            "tags": []
          },
          "execution_count": 45
        }
      ]
    },
    {
      "cell_type": "markdown",
      "metadata": {
        "id": "ka04-y1zzmZ4",
        "colab_type": "text"
      },
      "source": [
        "### glob 모듈"
      ]
    },
    {
      "cell_type": "code",
      "metadata": {
        "id": "cQbztzCPzQVt",
        "colab_type": "code",
        "outputId": "7fd54eb0-8db4-4b24-d6ba-bc8ea4ec593b",
        "colab": {
          "base_uri": "https://localhost:8080/",
          "height": 53
        }
      },
      "source": [
        "print(\"glob\")\n",
        "###########################################################\n",
        "# 특정 디렉터리에 있는 파일 이름 모두 확인하는 파이썬 모듈\n",
        "# 디렉터리에 있는 파일들을 리스트로 만들기 - glob(pathname)\n",
        "###########################################################\n",
        "#\n",
        "import glob\n",
        "\n",
        "glob.glob(\"*.txt\")  # txt 파일 목록 확인\n",
        "# ['test.txt', 'zest.txt']\n"
      ],
      "execution_count": 0,
      "outputs": [
        {
          "output_type": "stream",
          "text": [
            "glob\n"
          ],
          "name": "stdout"
        },
        {
          "output_type": "execute_result",
          "data": {
            "text/plain": [
              "['test.txt', 'zest.txt']"
            ]
          },
          "metadata": {
            "tags": []
          },
          "execution_count": 46
        }
      ]
    },
    {
      "cell_type": "code",
      "metadata": {
        "id": "pFTVFVqezukS",
        "colab_type": "code",
        "colab": {}
      },
      "source": [
        "\n",
        "\n",
        "print(\"tempfile\")\n",
        "###########################################################\n",
        "# 파일을 임시로 만들어서 사용할 때 유용한 모듈\n",
        "###########################################################\n",
        "#\n",
        "import tempfile\n",
        "\n",
        "filename = tempfile.mktemp()\n",
        "filename\n",
        "\n",
        "# tempfile.TemporaryFile()은 임시 저장 공간으로 사용할 파일 객체를 돌려준다.\n",
        "# 이 파일은 기본적으로 바이너리 쓰기 모드(wb)를 갖는다.\n",
        "# f.close()가 호출되면 이 파일 객체는 자동으로 사라진다.\n",
        "import tempfile\n",
        "\n",
        "f = tempfile.TemporaryFile()\n",
        "f.close()\n"
      ],
      "execution_count": 0,
      "outputs": []
    },
    {
      "cell_type": "markdown",
      "metadata": {
        "id": "UMWqzojZz-oe",
        "colab_type": "text"
      },
      "source": [
        "### time 모듈"
      ]
    },
    {
      "cell_type": "code",
      "metadata": {
        "id": "g8UNBWN9z97C",
        "colab_type": "code",
        "outputId": "e10a3183-9085-4e85-dd94-e1e727095000",
        "colab": {
          "base_uri": "https://localhost:8080/",
          "height": 53
        }
      },
      "source": [
        "print(\"time\")  # ***\n",
        "###########################################################\n",
        "# 시간과 관련된 time 모듈\n",
        "###########################################################\n",
        "#\n",
        "# time.time()\n",
        "#\n",
        "# time.time()은 UTC(Universal Time Coordinated 협정 세계 표준시)를\n",
        "# 사용하여 현재 시간을 실수 형태로 돌려주는 함수이다.\n",
        "# 1970년 1월 1일 0시 0분 0초를 기준으로 지난 시간을 초 단위로 돌려준다.\n",
        "import time\n",
        "\n",
        "time.time()\n"
      ],
      "execution_count": 0,
      "outputs": [
        {
          "output_type": "stream",
          "text": [
            "time\n"
          ],
          "name": "stdout"
        },
        {
          "output_type": "execute_result",
          "data": {
            "text/plain": [
              "1591601032.2524664"
            ]
          },
          "metadata": {
            "tags": []
          },
          "execution_count": 47
        }
      ]
    },
    {
      "cell_type": "code",
      "metadata": {
        "id": "h1G_hl5Z0EfB",
        "colab_type": "code",
        "outputId": "36a25f56-c99d-45f7-f024-63886ef1fa15",
        "colab": {
          "base_uri": "https://localhost:8080/",
          "height": 35
        }
      },
      "source": [
        "# time.localtime()\n",
        "# time.localtime은 time.time()이 돌려준 실수 값을 사용해서\n",
        "# 연도, 월, 일, 시, 분, 초, ... 의 형태로 바꾸어 주는 함수\n",
        "time.localtime(time.time())\n",
        "# time.struct_time(tm_year=2019, tm_mon=10, tm_mday=30,\n",
        "# tm_hour=21, tm_min=18, tm_sec=15, tm_wday=2, tm_yday=303, tm_isdst=0)\n",
        "\n",
        "# time.asctime\n",
        "# 위 time.localtime에 의해서 반환된 튜플 형태의 값을 인수로 받아서\n",
        "# 날짜와 시간을 알아보기 쉬운 형태로 돌려주는 함수\n",
        "# time.asctime(time.localtime(time.time()))\n",
        "# 'Wed Oct 30 21:19:52 2019'\n",
        "\n",
        "# time.ctime\n",
        "# time.asctime(time.localtime(time.time()))은 time.ctime()과 같다.\n",
        "time.ctime()\n"
      ],
      "execution_count": 0,
      "outputs": [
        {
          "output_type": "execute_result",
          "data": {
            "text/plain": [
              "'Mon Jun  8 07:26:00 2020'"
            ]
          },
          "metadata": {
            "tags": []
          },
          "execution_count": 52
        }
      ]
    },
    {
      "cell_type": "markdown",
      "metadata": {
        "id": "3kTJqBsj02NR",
        "colab_type": "text"
      },
      "source": [
        "### 시간 출력 형식"
      ]
    },
    {
      "cell_type": "code",
      "metadata": {
        "id": "oZwwCCC90Uke",
        "colab_type": "code",
        "outputId": "cf070644-2b49-49ec-f2a7-1ea9bac0e137",
        "colab": {
          "base_uri": "https://localhost:8080/",
          "height": 35
        }
      },
      "source": [
        "# time.strftime\n",
        "# time.strftime('출력할 형식 포맷 코드', time.localtime(time.time()))\n",
        "# strftime 함수는 여러 가지 포맷 코드로 시간에 관계된 것을 세밀하게 표현\n",
        "\n",
        "# 시간에 관계된 것을 표현하는 포맷 코드\n",
        "##############################################################\n",
        "# 포맷코드\t설명\t예\n",
        "# %a\t요일 줄임말\tMon\n",
        "# %A\t요일\tMonday\n",
        "# %b\t달 줄임말\tJan\n",
        "# %B\t달\tJanuary\n",
        "# %c\t날짜와 시간을 출력함\t06/01/01 17:22:21\n",
        "# %d\t날(day)\t[01,31]\n",
        "# %H\t시간(hour)-24시간 출력 형태\t[00,23]\n",
        "# %I\t시간(hour)-12시간 출력 형태\t[01,12]\n",
        "# %j\t1년 중 누적 날짜\t[001,366]\n",
        "# %m\t달\t[01,12]\n",
        "# %M\t분\t[01,59]\n",
        "# %p\tAM or PM\tAM\n",
        "# %S\t초\t[00,59]\n",
        "# %U\t1년 중 누적 주-일요일을 시작으로\t[00,53]\n",
        "# %w\t숫자로 된 요일\t[0(일요일),6]\n",
        "# %W\t1년 중 누적 주-월요일을 시작으로\t[00,53]\n",
        "# %x\t현재 설정된 로케일에 기반한 날짜 출력\t06/01/01\n",
        "# %X\t현재 설정된 로케일에 기반한 시간 출력\t17:22:21\n",
        "# %Y\t년도 출력\t2001\n",
        "# %z\t시간대 출력\t대한민국 표준시\n",
        "# %y\t세기부분을 제외한 년도 출력\t01\n",
        "##############################################################\n",
        "\n",
        "import time\n",
        "\n",
        "# time.strftime(\"%x\", time.localtime(time.time()))\n",
        "\n",
        "time.strftime(\"%c\", time.localtime(time.time()))\n",
        "\n",
        "time.strftime(\"%z\", time.localtime(time.time()))\n"
      ],
      "execution_count": 0,
      "outputs": [
        {
          "output_type": "execute_result",
          "data": {
            "text/plain": [
              "'+0000'"
            ]
          },
          "metadata": {
            "tags": []
          },
          "execution_count": 56
        }
      ]
    },
    {
      "cell_type": "code",
      "metadata": {
        "id": "giUBd48N08Lp",
        "colab_type": "code",
        "outputId": "21151513-223f-4b18-8638-86c937828c1a",
        "colab": {
          "base_uri": "https://localhost:8080/",
          "height": 197
        }
      },
      "source": [
        "# time.sleep\n",
        "# time.sleep 함수는 주로 루프 안에서 많이 사용한다.\n",
        "# 이 함수를 사용하면 일정한 시간 간격을 두고 루프를 실행\n",
        "# sleep1.py\n",
        "import time\n",
        "\n",
        "for i in range(10):\n",
        "    print(i)\n",
        "    time.sleep(1)  # delay = 1 s\n"
      ],
      "execution_count": 0,
      "outputs": [
        {
          "output_type": "stream",
          "text": [
            "0\n",
            "1\n",
            "2\n",
            "3\n",
            "4\n",
            "5\n",
            "6\n",
            "7\n",
            "8\n",
            "9\n"
          ],
          "name": "stdout"
        }
      ]
    },
    {
      "cell_type": "markdown",
      "metadata": {
        "id": "u3hPZxDx1hpm",
        "colab_type": "text"
      },
      "source": [
        "### calendar 모듈"
      ]
    },
    {
      "cell_type": "code",
      "metadata": {
        "id": "cthIlZyW1VNS",
        "colab_type": "code",
        "outputId": "28a6a105-af43-4cc7-f3f1-44e9878db03c",
        "colab": {
          "base_uri": "https://localhost:8080/",
          "height": 1000
        }
      },
      "source": [
        "print(\"calendar\")\n",
        "###########################################################\n",
        "# 파이썬에서 달력을 볼 수 있게 해주는 모듈\n",
        "###########################################################\n",
        "#\n",
        "import calendar\n",
        "\n",
        "print(calendar.calendar(2020))\n",
        "\n",
        "calendar.prcal(2020)\n",
        "\n",
        "calendar.prmonth(2020, 6)\n"
      ],
      "execution_count": 0,
      "outputs": [
        {
          "output_type": "stream",
          "text": [
            "calendar\n",
            "                                  2020\n",
            "\n",
            "      January                   February                   March\n",
            "Mo Tu We Th Fr Sa Su      Mo Tu We Th Fr Sa Su      Mo Tu We Th Fr Sa Su\n",
            "       1  2  3  4  5                      1  2                         1\n",
            " 6  7  8  9 10 11 12       3  4  5  6  7  8  9       2  3  4  5  6  7  8\n",
            "13 14 15 16 17 18 19      10 11 12 13 14 15 16       9 10 11 12 13 14 15\n",
            "20 21 22 23 24 25 26      17 18 19 20 21 22 23      16 17 18 19 20 21 22\n",
            "27 28 29 30 31            24 25 26 27 28 29         23 24 25 26 27 28 29\n",
            "                                                    30 31\n",
            "\n",
            "       April                      May                       June\n",
            "Mo Tu We Th Fr Sa Su      Mo Tu We Th Fr Sa Su      Mo Tu We Th Fr Sa Su\n",
            "       1  2  3  4  5                   1  2  3       1  2  3  4  5  6  7\n",
            " 6  7  8  9 10 11 12       4  5  6  7  8  9 10       8  9 10 11 12 13 14\n",
            "13 14 15 16 17 18 19      11 12 13 14 15 16 17      15 16 17 18 19 20 21\n",
            "20 21 22 23 24 25 26      18 19 20 21 22 23 24      22 23 24 25 26 27 28\n",
            "27 28 29 30               25 26 27 28 29 30 31      29 30\n",
            "\n",
            "        July                     August                  September\n",
            "Mo Tu We Th Fr Sa Su      Mo Tu We Th Fr Sa Su      Mo Tu We Th Fr Sa Su\n",
            "       1  2  3  4  5                      1  2          1  2  3  4  5  6\n",
            " 6  7  8  9 10 11 12       3  4  5  6  7  8  9       7  8  9 10 11 12 13\n",
            "13 14 15 16 17 18 19      10 11 12 13 14 15 16      14 15 16 17 18 19 20\n",
            "20 21 22 23 24 25 26      17 18 19 20 21 22 23      21 22 23 24 25 26 27\n",
            "27 28 29 30 31            24 25 26 27 28 29 30      28 29 30\n",
            "                          31\n",
            "\n",
            "      October                   November                  December\n",
            "Mo Tu We Th Fr Sa Su      Mo Tu We Th Fr Sa Su      Mo Tu We Th Fr Sa Su\n",
            "          1  2  3  4                         1          1  2  3  4  5  6\n",
            " 5  6  7  8  9 10 11       2  3  4  5  6  7  8       7  8  9 10 11 12 13\n",
            "12 13 14 15 16 17 18       9 10 11 12 13 14 15      14 15 16 17 18 19 20\n",
            "19 20 21 22 23 24 25      16 17 18 19 20 21 22      21 22 23 24 25 26 27\n",
            "26 27 28 29 30 31         23 24 25 26 27 28 29      28 29 30 31\n",
            "                          30\n",
            "\n",
            "                                  2020\n",
            "\n",
            "      January                   February                   March\n",
            "Mo Tu We Th Fr Sa Su      Mo Tu We Th Fr Sa Su      Mo Tu We Th Fr Sa Su\n",
            "       1  2  3  4  5                      1  2                         1\n",
            " 6  7  8  9 10 11 12       3  4  5  6  7  8  9       2  3  4  5  6  7  8\n",
            "13 14 15 16 17 18 19      10 11 12 13 14 15 16       9 10 11 12 13 14 15\n",
            "20 21 22 23 24 25 26      17 18 19 20 21 22 23      16 17 18 19 20 21 22\n",
            "27 28 29 30 31            24 25 26 27 28 29         23 24 25 26 27 28 29\n",
            "                                                    30 31\n",
            "\n",
            "       April                      May                       June\n",
            "Mo Tu We Th Fr Sa Su      Mo Tu We Th Fr Sa Su      Mo Tu We Th Fr Sa Su\n",
            "       1  2  3  4  5                   1  2  3       1  2  3  4  5  6  7\n",
            " 6  7  8  9 10 11 12       4  5  6  7  8  9 10       8  9 10 11 12 13 14\n",
            "13 14 15 16 17 18 19      11 12 13 14 15 16 17      15 16 17 18 19 20 21\n",
            "20 21 22 23 24 25 26      18 19 20 21 22 23 24      22 23 24 25 26 27 28\n",
            "27 28 29 30               25 26 27 28 29 30 31      29 30\n",
            "\n",
            "        July                     August                  September\n",
            "Mo Tu We Th Fr Sa Su      Mo Tu We Th Fr Sa Su      Mo Tu We Th Fr Sa Su\n",
            "       1  2  3  4  5                      1  2          1  2  3  4  5  6\n",
            " 6  7  8  9 10 11 12       3  4  5  6  7  8  9       7  8  9 10 11 12 13\n",
            "13 14 15 16 17 18 19      10 11 12 13 14 15 16      14 15 16 17 18 19 20\n",
            "20 21 22 23 24 25 26      17 18 19 20 21 22 23      21 22 23 24 25 26 27\n",
            "27 28 29 30 31            24 25 26 27 28 29 30      28 29 30\n",
            "                          31\n",
            "\n",
            "      October                   November                  December\n",
            "Mo Tu We Th Fr Sa Su      Mo Tu We Th Fr Sa Su      Mo Tu We Th Fr Sa Su\n",
            "          1  2  3  4                         1          1  2  3  4  5  6\n",
            " 5  6  7  8  9 10 11       2  3  4  5  6  7  8       7  8  9 10 11 12 13\n",
            "12 13 14 15 16 17 18       9 10 11 12 13 14 15      14 15 16 17 18 19 20\n",
            "19 20 21 22 23 24 25      16 17 18 19 20 21 22      21 22 23 24 25 26 27\n",
            "26 27 28 29 30 31         23 24 25 26 27 28 29      28 29 30 31\n",
            "                          30\n",
            "\n",
            "     June 2020\n",
            "Mo Tu We Th Fr Sa Su\n",
            " 1  2  3  4  5  6  7\n",
            " 8  9 10 11 12 13 14\n",
            "15 16 17 18 19 20 21\n",
            "22 23 24 25 26 27 28\n",
            "29 30\n"
          ],
          "name": "stdout"
        }
      ]
    },
    {
      "cell_type": "code",
      "metadata": {
        "id": "I-ucfXdt1nWL",
        "colab_type": "code",
        "outputId": "859032ef-ccd0-485f-98d7-fdcf2137c9d7",
        "colab": {
          "base_uri": "https://localhost:8080/",
          "height": 35
        }
      },
      "source": [
        "# calendar.weekday\n",
        "# calendar 모듈의 또 다른 유용한 함수를 보자.\n",
        "# weekday(연도, 월, 일) 함수는 그 날짜에 해당하는 요일 정보를 돌려준다.\n",
        "# 월요일은 0, 화요일은 1, 수요일은 2, 목요일은 3, 금요일은 4,\n",
        "# 토요일은 5, 일요일은 6이라는 값을 돌려준다.\n",
        "calendar.weekday(2020, 6, 8)\n",
        "\n",
        "\n",
        "# calendar.monthrange\n",
        "# monthrange(연도, 월) 함수는 입력받은 달의 1일이 무슨 요일인지와\n",
        "# 그 달이 며칠까지 있는지를 튜플 형태로 돌려준다.\n",
        "calendar.monthrange(2020, 6)\n"
      ],
      "execution_count": 0,
      "outputs": [
        {
          "output_type": "execute_result",
          "data": {
            "text/plain": [
              "(0, 30)"
            ]
          },
          "metadata": {
            "tags": []
          },
          "execution_count": 62
        }
      ]
    },
    {
      "cell_type": "markdown",
      "metadata": {
        "id": "8DnwsE712eP4",
        "colab_type": "text"
      },
      "source": [
        "##random 모듈\n",
        "- 난수 발생 및 이용"
      ]
    },
    {
      "cell_type": "code",
      "metadata": {
        "id": "AE7LYQSC2ATh",
        "colab_type": "code",
        "outputId": "f4248bb0-8a53-4709-81fc-4157835a6495",
        "colab": {
          "base_uri": "https://localhost:8080/",
          "height": 53
        }
      },
      "source": [
        "\n",
        "print(\"random\")  # ***\n",
        "###########################################################\n",
        "# 난수(규칙이 없는 임의의 수)를 발생시키는 모듈\n",
        "# 마구잡이 수 발생\n",
        "# random(), randint()\n",
        "###########################################################\n",
        "#\n",
        "import random\n",
        "\n",
        "# random() : 0.0에서 1.0 사이의 실수 중에서 난수 값을 생성\n",
        "random.random()\n"
      ],
      "execution_count": 0,
      "outputs": [
        {
          "output_type": "stream",
          "text": [
            "random\n"
          ],
          "name": "stdout"
        },
        {
          "output_type": "execute_result",
          "data": {
            "text/plain": [
              "0.8590105589795083"
            ]
          },
          "metadata": {
            "tags": []
          },
          "execution_count": 70
        }
      ]
    },
    {
      "cell_type": "markdown",
      "metadata": {
        "id": "UGv-KOgA3Q5F",
        "colab_type": "text"
      },
      "source": [
        "### randint(start, end)"
      ]
    },
    {
      "cell_type": "code",
      "metadata": {
        "id": "B6BS120m3QL_",
        "colab_type": "code",
        "outputId": "2656d68a-ed99-42da-f24c-ffd23b6fb14f",
        "colab": {
          "base_uri": "https://localhost:8080/",
          "height": 35
        }
      },
      "source": [
        "\n",
        "# randint(start, end) : start에서 end 사이의 정수 중에서 난수 값을 생성\n",
        "random.randint(1, 10)\n"
      ],
      "execution_count": 0,
      "outputs": [
        {
          "output_type": "execute_result",
          "data": {
            "text/plain": [
              "2"
            ]
          },
          "metadata": {
            "tags": []
          },
          "execution_count": 80
        }
      ]
    },
    {
      "cell_type": "code",
      "metadata": {
        "id": "2aTFsuiK23Ot",
        "colab_type": "code",
        "outputId": "15862fc1-e104-44bc-ed24-b239741e9fdb",
        "colab": {
          "base_uri": "https://localhost:8080/",
          "height": 35
        }
      },
      "source": [
        "\n",
        "for i in range(6):\n",
        "    print(random.randint(1, 45), end=\",\")\n",
        "\n",
        "print()\n"
      ],
      "execution_count": 0,
      "outputs": [
        {
          "output_type": "stream",
          "text": [
            "21,19,1,11,41,11,\n"
          ],
          "name": "stdout"
        }
      ]
    },
    {
      "cell_type": "code",
      "metadata": {
        "id": "jXuBxAgs3oSE",
        "colab_type": "code",
        "outputId": "8662460b-39d8-41bd-ab16-f4a15cc34f4d",
        "colab": {
          "base_uri": "https://localhost:8080/",
          "height": 35
        }
      },
      "source": [
        "\n",
        "#####\n",
        "# random 모듈을 사용해서 재미있는 함수\n",
        "#\n",
        "# random_pop.py\n",
        "import random\n",
        "\n",
        "\n",
        "def random_pop(data):\n",
        "    number = random.randint(0, len(data) - 1)\n",
        "    return data.pop(number)\n",
        "\n",
        "\n",
        "if __name__ == \"__main__\":\n",
        "    data = list(range(1, 10))  # [1, 2, 3, 4, 5]\n",
        "    while data:\n",
        "        print(random_pop(data), end=\" \")\n",
        "    print()\n",
        "\n",
        "# 리스트의 요소 중에서 무작위로 하나를 선택하여 꺼낸 다음 그 값을 돌려준다.\n",
        "# 물론 꺼낸 요소는 pop 메서드에 의해 사라진다.\n"
      ],
      "execution_count": 0,
      "outputs": [
        {
          "output_type": "stream",
          "text": [
            "3 2 5 6 8 4 9 7 1 \n"
          ],
          "name": "stdout"
        }
      ]
    },
    {
      "cell_type": "code",
      "metadata": {
        "id": "hST_7agD4Ey1",
        "colab_type": "code",
        "outputId": "9f02de2b-3368-4ec1-b403-69842562c122",
        "colab": {
          "base_uri": "https://localhost:8080/",
          "height": 35
        }
      },
      "source": [
        "# random_pop 함수는 random 모듈의 choice 함수를 사용하여\n",
        "# 다음과 같이 좀 더 직관적으로 만들 수도 있다.\n",
        "\n",
        "def random_pop(data):\n",
        "    number = random.choice(data)\n",
        "    data.remove(number)\n",
        "    return number\n",
        "\n",
        "\n",
        "# random_pop([1, 2, 3, 4, 5])\n",
        "\n",
        "if __name__ == \"__main__\":\n",
        "    data = list(range(1, 10))  # [1, 2, 3, 4, 5]\n",
        "    while data:\n",
        "        print(random_pop(data), end=\" \")\n",
        "    print()\n"
      ],
      "execution_count": 0,
      "outputs": [
        {
          "output_type": "stream",
          "text": [
            "3 2 5 4 7 6 9 8 1 \n"
          ],
          "name": "stdout"
        }
      ]
    },
    {
      "cell_type": "markdown",
      "metadata": {
        "id": "FHNcGcKS5g1t",
        "colab_type": "text"
      },
      "source": [
        "## if \\_\\_name\\_\\_ == \"\\_\\_main\\_\\_\":"
      ]
    },
    {
      "cell_type": "code",
      "metadata": {
        "id": "rl_MLwKQ42yZ",
        "colab_type": "code",
        "outputId": "67b2f851-a6ec-45b0-aee4-baee185d9aa0",
        "colab": {
          "base_uri": "https://localhost:8080/",
          "height": 53
        }
      },
      "source": [
        "#####################################################\n",
        "# 다음의 의미\n",
        "# if __name__ == \"__main__\":\n",
        "# https://pinocc.tistory.com/175\n",
        "#\n",
        "# Filename: using_name.py\n",
        "\"\"\"\n",
        "if __name__ == '__main__':\n",
        "\tprint 'This program is being run by itself'\n",
        "else:\n",
        "\tprint 'I am being imported from another module'\n",
        "\"\"\"\n",
        "# 직접 실행\n",
        "# python using_name.py\n",
        "# This program is being run by itself\n",
        "\n",
        "# 모듈로 import 되어 실행\n",
        "# >>> import using_name\n",
        "# >>> I am being imported from another module\n",
        "#####################################################\n"
      ],
      "execution_count": 0,
      "outputs": [
        {
          "output_type": "stream",
          "text": [
            "webbrowser\n"
          ],
          "name": "stdout"
        },
        {
          "output_type": "execute_result",
          "data": {
            "text/plain": [
              "False"
            ]
          },
          "metadata": {
            "tags": []
          },
          "execution_count": 99
        }
      ]
    },
    {
      "cell_type": "code",
      "metadata": {
        "id": "1wRzpOGu6NRG",
        "colab_type": "code",
        "outputId": "8c3fb801-f84d-49b8-984f-6c4a51d1ba58",
        "colab": {
          "base_uri": "https://localhost:8080/",
          "height": 35
        }
      },
      "source": [
        "run using_name.py"
      ],
      "execution_count": 0,
      "outputs": [
        {
          "output_type": "stream",
          "text": [
            "This program is being run by itself\n"
          ],
          "name": "stdout"
        }
      ]
    },
    {
      "cell_type": "code",
      "metadata": {
        "id": "KyNZUG-16m2R",
        "colab_type": "code",
        "colab": {}
      },
      "source": [
        "import using_name"
      ],
      "execution_count": 0,
      "outputs": []
    },
    {
      "cell_type": "code",
      "metadata": {
        "id": "QyN_Uvio6Kxv",
        "colab_type": "code",
        "colab": {}
      },
      "source": [
        "\n",
        "\n",
        "#\n",
        "# 리스트의 항목을 무작위로 섞고 싶을 때는 random.shuffle 함수를 사용\n",
        "#\n",
        "import random\n",
        "\n",
        "data = [1, 2, 3, 4, 5]\n",
        "random.shuffle(data)\n",
        "data\n",
        "\n",
        "\n",
        "print(\"webbrowser\")\n",
        "###########################################################\n",
        "# webbrowser는 자신의 시스템에서 사용하는 기본 웹 브라우저를\n",
        "# 자동으로 실행하는 모듈\n",
        "###########################################################\n",
        "#\n",
        "import webbrowser\n",
        "\n",
        "webbrowser.open(\"http://google.com\")\n",
        "# 새로운 창/탭으로 열기\n",
        "webbrowser.open_new(\"http://google.com\")\n",
        "\n",
        "## end of ch.05"
      ],
      "execution_count": 0,
      "outputs": []
    },
    {
      "cell_type": "code",
      "metadata": {
        "id": "cd9kr46z54xD",
        "colab_type": "code",
        "colab": {}
      },
      "source": [
        ""
      ],
      "execution_count": 0,
      "outputs": []
    }
  ]
}