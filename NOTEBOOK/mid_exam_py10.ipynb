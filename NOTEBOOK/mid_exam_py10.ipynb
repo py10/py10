{
  "nbformat": 4,
  "nbformat_minor": 0,
  "metadata": {
    "colab": {
      "name": "mid_exam_py10.ipynb",
      "provenance": [],
      "collapsed_sections": [],
      "authorship_tag": "ABX9TyN3kOQCPwsSkplhY5e6PgVt",
      "include_colab_link": true
    },
    "kernelspec": {
      "name": "python3",
      "display_name": "Python 3"
    }
  },
  "cells": [
    {
      "cell_type": "markdown",
      "metadata": {
        "id": "view-in-github",
        "colab_type": "text"
      },
      "source": [
        "<a href=\"https://colab.research.google.com/github/py10/py10/blob/master/NOTEBOOK/mid_exam_py10.ipynb\" target=\"_parent\"><img src=\"https://colab.research.google.com/assets/colab-badge.svg\" alt=\"Open In Colab\"/></a>"
      ]
    },
    {
      "cell_type": "markdown",
      "metadata": {
        "id": "Sv7vMmwwXMe1",
        "colab_type": "text"
      },
      "source": [
        "#파이썬활용 중간고사 풀이"
      ]
    },
    {
      "cell_type": "markdown",
      "metadata": {
        "id": "oKHW4l8iXRwD",
        "colab_type": "text"
      },
      "source": [
        "### 문제1. \n",
        "\n",
        "  - 다음 식의 연산 결과는?? \n",
        "      \n",
        "       a = 5\\\n",
        "       b = 3\\\n",
        "       a ** b ?\n",
        "      "
      ]
    },
    {
      "cell_type": "code",
      "metadata": {
        "id": "Cm-WD0gMXAl6",
        "colab_type": "code",
        "colab": {
          "base_uri": "https://localhost:8080/",
          "height": 35
        },
        "outputId": "3d6bf362-faee-47ae-a269-b5c0cf28979b"
      },
      "source": [
        "a = 5\n",
        "b = 3\n",
        "a ** b \n",
        "# *은 곱이지만 **는 제곱이다. 즉 5를 3제곱하는것이다."
      ],
      "execution_count": 4,
      "outputs": [
        {
          "output_type": "execute_result",
          "data": {
            "text/plain": [
              "125"
            ]
          },
          "metadata": {
            "tags": []
          },
          "execution_count": 4
        }
      ]
    },
    {
      "cell_type": "markdown",
      "metadata": {
        "id": "92Dkc0nVYU2H",
        "colab_type": "text"
      },
      "source": [
        "###문제2. 다음 문자열 a에 대하여 슬라이싱을 한 결과는??\n",
        "\\\n",
        "   - a = \"Life is too short,you need Python!\""
      ]
    },
    {
      "cell_type": "code",
      "metadata": {
        "id": "_aC8P2O1Yh7p",
        "colab_type": "code",
        "colab": {
          "base_uri": "https://localhost:8080/",
          "height": 35
        },
        "outputId": "8b861c55-d402-4e3c-8e00-cfb8ba715f81"
      },
      "source": [
        "a = \"Life is too short,you need Python!\"\n",
        "a[-16:-8]\n",
        "\n",
        "# -1은 마지막 문자부터 시작한다.\n",
        "# 슬라이싱  앞은  -16이니까 뒤에서 부터 16번까지 가면 y까지다.\n",
        "# 슬라이싱  뒤는 -8이니까 첫번째 까지 갔던 문자부터 -8까지 포함한다\n",
        "# 그러면 y부터 d까지 포함되어 you need가 된다"
      ],
      "execution_count": 5,
      "outputs": [
        {
          "output_type": "execute_result",
          "data": {
            "text/plain": [
              "'you need'"
            ]
          },
          "metadata": {
            "tags": []
          },
          "execution_count": 5
        }
      ]
    },
    {
      "cell_type": "markdown",
      "metadata": {
        "id": "SK90QC9kZsh8",
        "colab_type": "text"
      },
      "source": [
        "### 문제3. 다음 list a의 인덱싱 결과는???\n",
        "\n",
        " - a = [1,2,(3,4),['a','b',['My','Life','Good']]]\\\n",
        "a[3][-1][0]\n",
        "\n",
        "    "
      ]
    },
    {
      "cell_type": "code",
      "metadata": {
        "id": "NwTKrHKOaHvp",
        "colab_type": "code",
        "colab": {
          "base_uri": "https://localhost:8080/",
          "height": 35
        },
        "outputId": "cb25a139-59ce-4c9c-9074-9de96f9a4bce"
      },
      "source": [
        "a = [1,2,(3,4),['a','b',['My','Life','Good']]]\n",
        "a[3][-1][0]\n",
        "# 리스트는 첫번째 리스트는 0부터 이다.\n",
        "# 세 번째 리스트는 대괄호에 있는 문자들이다.\n",
        "# -1은 슬라이싱처럼 맨뒤부터 시작한다\n",
        "# 그러므로 대괄호안에 있는 리스트 중 -1에 해당되는 리스트는 ['My','Life','Good']이다.\n",
        "# 대괄호 속 대괄호 문자의 리스트[0]은 my가 해당된다.\n",
        "# 즉, 결과는 my가 된다"
      ],
      "execution_count": 6,
      "outputs": [
        {
          "output_type": "execute_result",
          "data": {
            "text/plain": [
              "'My'"
            ]
          },
          "metadata": {
            "tags": []
          },
          "execution_count": 6
        }
      ]
    },
    {
      "cell_type": "markdown",
      "metadata": {
        "id": "A29uS1bsbKoS",
        "colab_type": "text"
      },
      "source": [
        "###문제4.다음 tuple t1의 슬라이싱 결과는?\n",
        "\n",
        "- t1 = (0,1,\"s\", \"t\", \"u\")\\\n",
        "t1[2:-2]\n"
      ]
    },
    {
      "cell_type": "code",
      "metadata": {
        "id": "XtcSJ-hgbSKd",
        "colab_type": "code",
        "colab": {
          "base_uri": "https://localhost:8080/",
          "height": 35
        },
        "outputId": "cdb6c94f-0f1c-4b1f-c283-1a651940b136"
      },
      "source": [
        "t1 = (0,1,\"s\", \"t\", \"u\")\n",
        "t1[2:-2]\n",
        "# 튜플도 슬라이싱처럼 시작한다.\n",
        "# 튜블의 2값은 \"s\" 이다.\n",
        "#-2값은 슬라이싱처럼 뒤에서 부터 시작하므로 \"t\"가 된다.\n",
        "#하지만 한가지 값인 s만 가질때는 ,를 붙여야 한다."
      ],
      "execution_count": 16,
      "outputs": [
        {
          "output_type": "execute_result",
          "data": {
            "text/plain": [
              "('s',)"
            ]
          },
          "metadata": {
            "tags": []
          },
          "execution_count": 16
        }
      ]
    },
    {
      "cell_type": "markdown",
      "metadata": {
        "id": "iitBgufLercC",
        "colab_type": "text"
      },
      "source": [
        "### 문제5. 다음 bool 값 출력 중 정확한 것은?\n",
        "- bool([0,1,2]),bool([0]), bool((0)), bool((0,))"
      ]
    },
    {
      "cell_type": "code",
      "metadata": {
        "id": "NkY0A544exgR",
        "colab_type": "code",
        "colab": {
          "base_uri": "https://localhost:8080/",
          "height": 35
        },
        "outputId": "99e0265a-d679-4ec7-de27-5e74bc246d05"
      },
      "source": [
        "bool([0,1,2]),bool([0]), bool((0)), bool((0,))\n",
        "# 리스트,튜블 들이다\n",
        "# 하지만 튜플은 한가지값을 쓸때는 ,를 필수로 들어가야 된다\n",
        "# 즉 3번째 bool값은 거짓이 False로 출력된다."
      ],
      "execution_count": 17,
      "outputs": [
        {
          "output_type": "execute_result",
          "data": {
            "text/plain": [
              "(True, True, False, True)"
            ]
          },
          "metadata": {
            "tags": []
          },
          "execution_count": 17
        }
      ]
    },
    {
      "cell_type": "markdown",
      "metadata": {
        "id": "Yo8cV6dDf7gP",
        "colab_type": "text"
      },
      "source": [
        "#### 문제6. 다음 조건문을 1줄 코드로 변경하시오\n"
      ]
    },
    {
      "cell_type": "code",
      "metadata": {
        "id": "W6xsIY8agI-h",
        "colab_type": "code",
        "colab": {}
      },
      "source": [
        "score = 80\n",
        "if score >= 60:\n",
        "  message = \"success\"\n",
        "else:\n",
        "  message = \"failure\""
      ],
      "execution_count": 0,
      "outputs": []
    },
    {
      "cell_type": "code",
      "metadata": {
        "id": "aK3pdYUNgYd2",
        "colab_type": "code",
        "colab": {
          "base_uri": "https://localhost:8080/",
          "height": 35
        },
        "outputId": "2cc8207c-321e-4e19-d350-2688abf8b532"
      },
      "source": [
        "score = 80\n",
        "massage = \"success\" if score >= 60 else \"failure\"\n",
        "print(message)\n",
        "#조건문이 참인 경우 if 조건문 else 조건문이 거짓인 경우 단축코드를 쉽게 만들어 낼 수 있다!"
      ],
      "execution_count": 25,
      "outputs": [
        {
          "output_type": "stream",
          "text": [
            "success\n"
          ],
          "name": "stdout"
        }
      ]
    },
    {
      "cell_type": "markdown",
      "metadata": {
        "id": "e4CP9zqSgxQf",
        "colab_type": "text"
      },
      "source": [
        "## 문제7. 다음 코드의 실행 결과는?"
      ]
    },
    {
      "cell_type": "code",
      "metadata": {
        "id": "sfgmjLQEg202",
        "colab_type": "code",
        "colab": {
          "base_uri": "https://localhost:8080/",
          "height": 35
        },
        "outputId": "ad75d477-63f8-49a8-c1f1-362b49776326"
      },
      "source": [
        "games = [\"A\", \"B\", \"C\"]\n",
        "\n",
        "for cnt in range(len(games)):\n",
        "    print(cnt, games[cnt], end=',')\n",
        "\n",
        "#len(games)를 통해 games에 들어있는 문자의 개수를 센다. 3이다. range(3)이 된다\n",
        "#range(3)은 range(0, 3)이다. 0,1,2가 출력된다.\n",
        "#games[cnt]값은 문자값을 순서대로 출력된다.\n",
        "#end=','는 사이 컴마를 넣어준다. \n",
        "#결국 숫자0, 문자A 차례대로 출력한다.\n"
      ],
      "execution_count": 27,
      "outputs": [
        {
          "output_type": "stream",
          "text": [
            "0 A,1 B,2 C,"
          ],
          "name": "stdout"
        }
      ]
    },
    {
      "cell_type": "markdown",
      "metadata": {
        "id": "Z7THNnTxkatn",
        "colab_type": "text"
      },
      "source": [
        "### 문제8. 다음의 결과가 출력되지 않는 것은? 'I ate 10 apples. so I was sick for three days.'"
      ]
    },
    {
      "cell_type": "code",
      "metadata": {
        "id": "ka0nmbJvkhDn",
        "colab_type": "code",
        "colab": {
          "base_uri": "https://localhost:8080/",
          "height": 136
        },
        "outputId": "f5b022ae-b0b7-41f7-ce67-c0b8401f16f8"
      },
      "source": [
        "number = 10\n",
        "day = \"three\"\n",
        "# print(\"I ate {0} apples. so I was sick for {1} days.\".format(10,day))\n",
        "# print(f\"I ate {number} apples. so I was sick for {day} days.\")\n",
        "# print(f\"I ate {number} apples. so I was sick for {'three'} days.\")\n",
        "print(\"I ate {0} apples. so I was sick for {1} days.\".format(number=10,day))\n",
        "\n",
        "\n",
        "# 이름이 있는 인자는 이름 없는 인자 앞에 올 수 없다."
      ],
      "execution_count": 29,
      "outputs": [
        {
          "output_type": "error",
          "ename": "SyntaxError",
          "evalue": "ignored",
          "traceback": [
            "\u001b[0;36m  File \u001b[0;32m\"<ipython-input-29-0aa32ba69d11>\"\u001b[0;36m, line \u001b[0;32m6\u001b[0m\n\u001b[0;31m    print(\"I ate {0} apples. so I was sick for {1} days.\".format(number=10,day))\u001b[0m\n\u001b[0m                                                                          ^\u001b[0m\n\u001b[0;31mSyntaxError\u001b[0m\u001b[0;31m:\u001b[0m positional argument follows keyword argument\n"
          ]
        }
      ]
    },
    {
      "cell_type": "markdown",
      "metadata": {
        "id": "8d13O3gkkzmy",
        "colab_type": "text"
      },
      "source": [
        "##### 문제9. 리스트 내포를 사용해 1부터 1000이하의 자연수 중 5의 배수의 합을 구하는 한 줄 코드를 작성하시오."
      ]
    },
    {
      "cell_type": "code",
      "metadata": {
        "id": "7rvAMu10k3sX",
        "colab_type": "code",
        "colab": {
          "base_uri": "https://localhost:8080/",
          "height": 35
        },
        "outputId": "8a021a0c-8fb2-4c83-d83a-a32b4760da32"
      },
      "source": [
        "sum([num for num in range(1,1001) if num % 5 ==0])\n",
        "# sum() 은 파이썬 내장 함수로 어떤 연속열의 합을 구하는 함수이다.\n",
        "# for num in range(1,1001) 부분에선 1에서 1000까지 값이다.\n",
        "# 조건부 if num % 5 ==0 에서 5의 배수라고 지정했다.\n",
        "# 결국 1에서 1000까지 합이 나오게 된다."
      ],
      "execution_count": 30,
      "outputs": [
        {
          "output_type": "execute_result",
          "data": {
            "text/plain": [
              "100500"
            ]
          },
          "metadata": {
            "tags": []
          },
          "execution_count": 30
        }
      ]
    },
    {
      "cell_type": "markdown",
      "metadata": {
        "id": "v6d4iooTl35c",
        "colab_type": "text"
      },
      "source": [
        "## 문제10. 4개 과목의 평균 성적을 구하시오. [a],[b]에 적합한 코드는?"
      ]
    },
    {
      "cell_type": "code",
      "metadata": {
        "id": "hR_77pjnl6f-",
        "colab_type": "code",
        "colab": {
          "base_uri": "https://localhost:8080/",
          "height": 108
        },
        "outputId": "a73330e5-0129-468a-d9a8-b4f739c4b6b1"
      },
      "source": [
        "subjects = ['python', 'english', 'math', 'science']\n",
        "scores = [88, 77, 66, 95]\n",
        "total = 0\n",
        " \n",
        "for subject, score in zip(subjects, scores):\n",
        "    total += score\n",
        "    print(subject, score)\n",
        " \n",
        "print(\"평균 점수 = {0}\".format(total/len(subjects)))\n",
        "\n",
        "# zip함수는 동일한 개수로 이루어진 자료형을 묶어주는 역할을 한다. 한번에 간단하게 zip으로 묶어주면 된다.\n",
        "# 5번라인에서 부터 7번을 본다. total의 값이 이미 점수의 총합으로 표현되있다.\n",
        "# len(subjects)를 다시보면 4이다. \n",
        "# 평범하게 평균 구할때 총합/과목 수 처럼 총합 total값에 len(subjects)값, 즉, 4를 나누는 식으로 출력이 된다.\n",
        "# 그래서 답은  zip과 total/len(subjects))이 된다."
      ],
      "execution_count": 33,
      "outputs": [
        {
          "output_type": "stream",
          "text": [
            "python 88\n",
            "english 77\n",
            "math 66\n",
            "science 95\n",
            "평균 점수 = 81.5\n"
          ],
          "name": "stdout"
        }
      ]
    }
  ]
}