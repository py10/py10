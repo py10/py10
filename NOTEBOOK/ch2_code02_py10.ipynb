{
  "nbformat": 4,
  "nbformat_minor": 0,
  "metadata": {
    "colab": {
      "name": "ch2_code02_py10.ipynb",
      "provenance": [],
      "collapsed_sections": [],
      "include_colab_link": true
    },
    "kernelspec": {
      "display_name": "Python 3",
      "language": "python",
      "name": "python3"
    },
    "language_info": {
      "codemirror_mode": {
        "name": "ipython",
        "version": 3
      },
      "file_extension": ".py",
      "mimetype": "text/x-python",
      "name": "python",
      "nbconvert_exporter": "python",
      "pygments_lexer": "ipython3",
      "version": "3.7.5"
    }
  },
  "cells": [
    {
      "cell_type": "markdown",
      "metadata": {
        "id": "view-in-github",
        "colab_type": "text"
      },
      "source": [
        "<a href=\"https://colab.research.google.com/github/py10/py10/blob/master/NOTEBOOK/ch2_code02_py10.ipynb\" target=\"_parent\"><img src=\"https://colab.research.google.com/assets/colab-badge.svg\" alt=\"Open In Colab\"/></a>"
      ]
    },
    {
      "cell_type": "markdown",
      "metadata": {
        "colab_type": "text",
        "id": "H4jNE-BMAK3f"
      },
      "source": [
        "# ch2_code02.ipynb\n",
        "## py10  (change to your id)\n",
        "- List\n",
        "- Tuple"
      ]
    },
    {
      "cell_type": "code",
      "metadata": {
        "colab_type": "code",
        "id": "hTRRKc56En6p",
        "outputId": "5259cd23-ba18-4f39-8bd2-8761bd185d73",
        "colab": {
          "base_uri": "https://localhost:8080/",
          "height": 53
        }
      },
      "source": [
        "# ch2_04_list.py\n",
        "\n",
        "print(\"리스트: list 란?\")\n",
        "odd = [1, 3, 5, 7, 9]\n",
        "# 여러 가지 리스트\n",
        "a = []   # list 초기화\n",
        "a\n",
        "b = [1, 2, 3]\n",
        "b\n",
        "c = ['Life', 'is', 'too', 'short'] #injomogeneous elements\n",
        "c\n",
        "d = [1, 2, 'Life', 'is']\n",
        "d\n",
        "e = [1, 2, ['Life', 'is']] #nested list\n",
        "print(\"e= \",e)"
      ],
      "execution_count": 0,
      "outputs": [
        {
          "output_type": "stream",
          "text": [
            "리스트: list 란?\n",
            "e=  [1, 2, ['Life', 'is']]\n"
          ],
          "name": "stdout"
        }
      ]
    },
    {
      "cell_type": "code",
      "metadata": {
        "id": "R5p6pMOdLyf6",
        "colab_type": "code",
        "outputId": "e73d98e9-96fe-47b8-bfc6-62a867fbfe38",
        "colab": {
          "base_uri": "https://localhost:8080/",
          "height": 35
        }
      },
      "source": [
        "# list 초기화\n",
        "a = list()\n",
        "a   # []"
      ],
      "execution_count": 0,
      "outputs": [
        {
          "output_type": "execute_result",
          "data": {
            "text/plain": [
              "[]"
            ]
          },
          "metadata": {
            "tags": []
          },
          "execution_count": 6
        }
      ]
    },
    {
      "cell_type": "markdown",
      "metadata": {
        "id": "mGUCtdoYX52O",
        "colab_type": "text"
      },
      "source": [
        "### 리스트의 인덱싱과 슬라이싱"
      ]
    },
    {
      "cell_type": "code",
      "metadata": {
        "id": "LWn5VPBDXwgH",
        "colab_type": "code",
        "colab": {}
      },
      "source": [
        "b = list((1,2,3))"
      ],
      "execution_count": 0,
      "outputs": []
    },
    {
      "cell_type": "code",
      "metadata": {
        "id": "Xr-viyL9Xs73",
        "colab_type": "code",
        "outputId": "6206ad41-21ba-4166-ad73-312727c077f6",
        "colab": {
          "base_uri": "https://localhost:8080/",
          "height": 53
        }
      },
      "source": [
        "print(\"리스트: 리스트의 인덱싱과 슬라이싱\")\n",
        "a = [1, 2, 3]\n",
        "a\n",
        "a[0]\n",
        "# a[3] #list index out of range\n",
        "a[0]+a[2]\n",
        "a[-1]"
      ],
      "execution_count": 0,
      "outputs": [
        {
          "output_type": "stream",
          "text": [
            "리스트: 리스트의 인덱싱과 슬라이싱\n"
          ],
          "name": "stdout"
        },
        {
          "output_type": "execute_result",
          "data": {
            "text/plain": [
              "3"
            ]
          },
          "metadata": {
            "tags": []
          },
          "execution_count": 11
        }
      ]
    },
    {
      "cell_type": "code",
      "metadata": {
        "id": "eqAalUN0YBEI",
        "colab_type": "code",
        "outputId": "afec130f-33b1-422b-c0ec-78792cccedbd",
        "colab": {
          "base_uri": "https://localhost:8080/",
          "height": 35
        }
      },
      "source": [
        "#\n",
        "a = [1, 2, 3, ['a', 'b', 'c']] # 2차원 구조\n",
        "a[0]\n",
        "a[3]\n",
        "a[-1]\n",
        "#  chaek this: a[0] + a[-1] -> TypeError\n",
        "# a[0] + a[-1]\n",
        "# ypeError: unsupported operand type(s) for +: 'int' and 'list'\n",
        "# # Indexing inner list\n",
        "a[-1][0]"
      ],
      "execution_count": 0,
      "outputs": [
        {
          "output_type": "execute_result",
          "data": {
            "text/plain": [
              "'a'"
            ]
          },
          "metadata": {
            "tags": []
          },
          "execution_count": 21
        }
      ]
    },
    {
      "cell_type": "code",
      "metadata": {
        "id": "_7SpKMQdYZI2",
        "colab_type": "code",
        "outputId": "7030fc7c-e601-4cd3-e5d3-a7ae9f25e4db",
        "colab": {
          "base_uri": "https://localhost:8080/",
          "height": 35
        }
      },
      "source": [
        "# 도전!\n",
        "a[-1][-1]"
      ],
      "execution_count": 0,
      "outputs": [
        {
          "output_type": "execute_result",
          "data": {
            "text/plain": [
              "'c'"
            ]
          },
          "metadata": {
            "tags": []
          },
          "execution_count": 22
        }
      ]
    },
    {
      "cell_type": "markdown",
      "metadata": {
        "id": "YF9u7pD-ZnK5",
        "colab_type": "text"
      },
      "source": [
        "### 삼중리스트"
      ]
    },
    {
      "cell_type": "code",
      "metadata": {
        "id": "spJ5EhStYQBu",
        "colab_type": "code",
        "outputId": "34079ece-f250-4659-e951-76bcd48c02a1",
        "colab": {
          "base_uri": "https://localhost:8080/",
          "height": 35
        }
      },
      "source": [
        "# Indexing of triple list\n",
        "# 삼중 리스트에서 인덱싱하기\n",
        "a = [1, 2, ['a', 'b', ['Life', 'is', 'good']]]\n",
        "a[2]\n",
        "a[2][-1]\n",
        "a[2][-1][-1]   # 'Life' -> 'good"
      ],
      "execution_count": 0,
      "outputs": [
        {
          "output_type": "execute_result",
          "data": {
            "text/plain": [
              "'good'"
            ]
          },
          "metadata": {
            "tags": []
          },
          "execution_count": 26
        }
      ]
    },
    {
      "cell_type": "markdown",
      "metadata": {
        "id": "9rtDNZcTaJhZ",
        "colab_type": "text"
      },
      "source": [
        "###리스트의 슬라이싱"
      ]
    },
    {
      "cell_type": "code",
      "metadata": {
        "id": "fTuMDDhAZudd",
        "colab_type": "code",
        "outputId": "9a4ef5da-f6a1-46d2-f973-53b5edb0405e",
        "colab": {
          "base_uri": "https://localhost:8080/",
          "height": 35
        }
      },
      "source": [
        "# 리스트의 슬라이싱\n",
        "a1 = [1, 2, 3, 4, 5]\n",
        "a1[0:2]\n",
        "a2 = \"12345\"\n",
        "a1[0:2], a2[0:2]"
      ],
      "execution_count": 0,
      "outputs": [
        {
          "output_type": "execute_result",
          "data": {
            "text/plain": [
              "([1, 2], '12')"
            ]
          },
          "metadata": {
            "tags": []
          },
          "execution_count": 30
        }
      ]
    },
    {
      "cell_type": "code",
      "metadata": {
        "id": "Ibuyuy3eZrvV",
        "colab_type": "code",
        "outputId": "f0047b74-8cd8-4deb-8d65-c6d6588802cc",
        "colab": {
          "base_uri": "https://localhost:8080/",
          "height": 35
        }
      },
      "source": [
        "\n",
        "a = [1, 2, 3, 4, 5]\n",
        "a[0:2]\n",
        "a[2:]\n",
        "a[0:4:2]  # a[start:end:step]"
      ],
      "execution_count": 0,
      "outputs": [
        {
          "output_type": "execute_result",
          "data": {
            "text/plain": [
              "[1, 3]"
            ]
          },
          "metadata": {
            "tags": []
          },
          "execution_count": 31
        }
      ]
    },
    {
      "cell_type": "code",
      "metadata": {
        "id": "n1V3rr7uadwc",
        "colab_type": "code",
        "outputId": "b6c2e559-68e0-4595-a859-61b27f46480a",
        "colab": {
          "base_uri": "https://localhost:8080/",
          "height": 35
        }
      },
      "source": [
        "#\n",
        "# 중첩된 리스트에서 슬라이싱하기\n",
        "#\n",
        "a = [1, 2, 3, ['a', 'b', 'c'], 4, 5]\n",
        "a[2:5]\n",
        "a[3][:2]"
      ],
      "execution_count": 0,
      "outputs": [
        {
          "output_type": "execute_result",
          "data": {
            "text/plain": [
              "['a', 'b']"
            ]
          },
          "metadata": {
            "tags": []
          },
          "execution_count": 33
        }
      ]
    },
    {
      "cell_type": "code",
      "metadata": {
        "id": "NO-s0ZEPanAt",
        "colab_type": "code",
        "outputId": "b5a5ee18-44f0-43f4-f862-4b17ecfc266d",
        "colab": {
          "base_uri": "https://localhost:8080/",
          "height": 35
        }
      },
      "source": [
        "#\n",
        "# 리스트: 인덱싱, 슬라이싱 연습\n",
        "#\n",
        "x = [1, 2, 3, 4, 5, 6, 7, 8, 9]\n",
        "x[0:3]\n",
        "x[3:]\n",
        "x[:6]\n",
        "x[0:6:2]  # x[:6:2]\n",
        "x[-1]\n",
        "x[-3]\n",
        "x[:-3]\n",
        "x[::-1]\n",
        "x[-3::-1]"
      ],
      "execution_count": 0,
      "outputs": [
        {
          "output_type": "execute_result",
          "data": {
            "text/plain": [
              "[7, 6, 5, 4, 3, 2, 1]"
            ]
          },
          "metadata": {
            "tags": []
          },
          "execution_count": 41
        }
      ]
    },
    {
      "cell_type": "markdown",
      "metadata": {
        "id": "RXUpJcB7bI8I",
        "colab_type": "text"
      },
      "source": [
        "###리스트 계산하기"
      ]
    },
    {
      "cell_type": "code",
      "metadata": {
        "id": "kV3MqoGda11P",
        "colab_type": "code",
        "outputId": "5f9f6540-1ad3-48d7-e1f0-95653b8de3f2",
        "colab": {
          "base_uri": "https://localhost:8080/",
          "height": 53
        }
      },
      "source": [
        "#\n",
        "###################################\n",
        "print(\"리스트: 리스트 연산하기\")\n",
        "###################################\n",
        "#\n",
        "# 리스트 더하기(+)\n",
        "#\n",
        "a = [1, 2, 3]\n",
        "b = [4, 5, 6]\n",
        "a + b"
      ],
      "execution_count": 0,
      "outputs": [
        {
          "output_type": "stream",
          "text": [
            "리스트: 리스트 연산하기\n"
          ],
          "name": "stdout"
        },
        {
          "output_type": "execute_result",
          "data": {
            "text/plain": [
              "[1, 2, 3, 4, 5, 6]"
            ]
          },
          "metadata": {
            "tags": []
          },
          "execution_count": 42
        }
      ]
    },
    {
      "cell_type": "code",
      "metadata": {
        "id": "4lNUfXCIbMv7",
        "colab_type": "code",
        "outputId": "68d31784-eb9e-44a5-f3aa-57300ca756d5",
        "colab": {
          "base_uri": "https://localhost:8080/",
          "height": 35
        }
      },
      "source": [
        "#\n",
        "# 리스트 반복하기(*)\n",
        "#\n",
        "a * 3"
      ],
      "execution_count": 0,
      "outputs": [
        {
          "output_type": "execute_result",
          "data": {
            "text/plain": [
              "[1, 2, 3, 1, 2, 3, 1, 2, 3]"
            ]
          },
          "metadata": {
            "tags": []
          },
          "execution_count": 44
        }
      ]
    },
    {
      "cell_type": "code",
      "metadata": {
        "id": "pMXrEqaJbQkm",
        "colab_type": "code",
        "outputId": "d1cf9f5e-9da3-48a6-94b6-93736a584e8f",
        "colab": {
          "base_uri": "https://localhost:8080/",
          "height": 35
        }
      },
      "source": [
        "\n",
        "#\n",
        "# 리스트 길이구하기\n",
        "#\n",
        "len(a), len(a*3)"
      ],
      "execution_count": 0,
      "outputs": [
        {
          "output_type": "execute_result",
          "data": {
            "text/plain": [
              "(3, 9)"
            ]
          },
          "metadata": {
            "tags": []
          },
          "execution_count": 45
        }
      ]
    },
    {
      "cell_type": "markdown",
      "metadata": {
        "id": "uDaINZZSbe1q",
        "colab_type": "text"
      },
      "source": [
        "###리스트 수정과 삭제"
      ]
    },
    {
      "cell_type": "code",
      "metadata": {
        "id": "kEqJJCXybRxM",
        "colab_type": "code",
        "outputId": "2d35140d-3038-4aba-9784-c11722928b08",
        "colab": {
          "base_uri": "https://localhost:8080/",
          "height": 208
        }
      },
      "source": [
        "#\n",
        "# 초보자가 범하기 쉬운 리스트 연산 오류\n",
        "#\n",
        "a = [1, 2, 3]\n",
        "a[2] + \"hi\"\n",
        "str(a[2]) + \"hi\""
      ],
      "execution_count": 0,
      "outputs": [
        {
          "output_type": "error",
          "ename": "TypeError",
          "evalue": "ignored",
          "traceback": [
            "\u001b[0;31m---------------------------------------------------------------------------\u001b[0m",
            "\u001b[0;31mTypeError\u001b[0m                                 Traceback (most recent call last)",
            "\u001b[0;32m<ipython-input-46-2a663008ffda>\u001b[0m in \u001b[0;36m<module>\u001b[0;34m()\u001b[0m\n\u001b[1;32m      1\u001b[0m \u001b[0ma\u001b[0m \u001b[0;34m=\u001b[0m \u001b[0;34m[\u001b[0m\u001b[0;36m1\u001b[0m\u001b[0;34m,\u001b[0m \u001b[0;36m2\u001b[0m\u001b[0;34m,\u001b[0m \u001b[0;36m3\u001b[0m\u001b[0;34m]\u001b[0m\u001b[0;34m\u001b[0m\u001b[0;34m\u001b[0m\u001b[0m\n\u001b[0;32m----> 2\u001b[0;31m \u001b[0ma\u001b[0m\u001b[0;34m[\u001b[0m\u001b[0;36m2\u001b[0m\u001b[0;34m]\u001b[0m \u001b[0;34m+\u001b[0m \u001b[0;34m\"hi\"\u001b[0m\u001b[0;34m\u001b[0m\u001b[0;34m\u001b[0m\u001b[0m\n\u001b[0m\u001b[1;32m      3\u001b[0m \u001b[0mstr\u001b[0m\u001b[0;34m(\u001b[0m\u001b[0ma\u001b[0m\u001b[0;34m[\u001b[0m\u001b[0;36m2\u001b[0m\u001b[0;34m]\u001b[0m\u001b[0;34m)\u001b[0m \u001b[0;34m+\u001b[0m \u001b[0;34m\"hi\"\u001b[0m\u001b[0;34m\u001b[0m\u001b[0;34m\u001b[0m\u001b[0m\n",
            "\u001b[0;31mTypeError\u001b[0m: unsupported operand type(s) for +: 'int' and 'str'"
          ]
        }
      ]
    },
    {
      "cell_type": "code",
      "metadata": {
        "id": "h9bnS00gbZjd",
        "colab_type": "code",
        "outputId": "04664d61-653e-4f04-ee46-b5692e63be7e",
        "colab": {
          "base_uri": "https://localhost:8080/",
          "height": 35
        }
      },
      "source": [
        "#\n",
        "# 리스트의 수정과 삭제\n",
        "#\n",
        "a = [1, 2, 3]\n",
        "a[2] = 4  # list is mutable!!!\n",
        "a"
      ],
      "execution_count": 0,
      "outputs": [
        {
          "output_type": "execute_result",
          "data": {
            "text/plain": [
              "[1, 2, 4]"
            ]
          },
          "metadata": {
            "tags": []
          },
          "execution_count": 47
        }
      ]
    },
    {
      "cell_type": "code",
      "metadata": {
        "id": "vgUXKA5hbjqd",
        "colab_type": "code",
        "outputId": "11c26a60-8e2c-4bc8-9b5f-8dbc082be0ce",
        "colab": {
          "base_uri": "https://localhost:8080/",
          "height": 35
        }
      },
      "source": [
        "\n",
        "#\n",
        "# del 함수 사용해 리스트 요소 삭제하기\n",
        "#\n",
        "a = [1, 2, 3]\n",
        "del a[1]\n",
        "a\n",
        "a = [1, 2, 3, 4, 5]\n",
        "del a[2:]\n",
        "a"
      ],
      "execution_count": 0,
      "outputs": [
        {
          "output_type": "execute_result",
          "data": {
            "text/plain": [
              "[1, 2]"
            ]
          },
          "metadata": {
            "tags": []
          },
          "execution_count": 48
        }
      ]
    },
    {
      "cell_type": "markdown",
      "metadata": {
        "id": "7kA1-Pwibsen",
        "colab_type": "text"
      },
      "source": [
        "###리스트 관련함수"
      ]
    },
    {
      "cell_type": "code",
      "metadata": {
        "colab_type": "code",
        "id": "dRkzQjiyEnq7",
        "outputId": "7cfe7a84-fc35-4fca-e1ce-8144127a3c3c",
        "colab": {
          "base_uri": "https://localhost:8080/",
          "height": 53
        }
      },
      "source": [
        "# ch2_05_list_functions.py\n",
        "\n",
        "print(\"리스트: 내부 함수 이용\")\n",
        "#\n",
        "# 리스트에 요소 추가(append)\n",
        "#\n",
        "a = [1, 2, 3]\n",
        "a.append(4)\n",
        "a\n",
        "# 리스트 안에는 어떤 자료형도 추가할 수 있다.\n",
        "# 리스트에 다시 리스트를 추가한 결과\n",
        "a.append([5, 6])\n",
        "a"
      ],
      "execution_count": 0,
      "outputs": [
        {
          "output_type": "stream",
          "text": [
            "리스트: 내부 함수 이용\n"
          ],
          "name": "stdout"
        },
        {
          "output_type": "execute_result",
          "data": {
            "text/plain": [
              "[1, 2, 3, 4, [5, 6]]"
            ]
          },
          "metadata": {
            "tags": []
          },
          "execution_count": 49
        }
      ]
    },
    {
      "cell_type": "code",
      "metadata": {
        "id": "Wk6TQwyCbyHh",
        "colab_type": "code",
        "outputId": "e36834ba-7f94-4521-a765-7d26c450dff0",
        "colab": {
          "base_uri": "https://localhost:8080/",
          "height": 35
        }
      },
      "source": [
        "\n",
        "#\n",
        "# 리스트 정렬(sort)\n",
        "#\n",
        "a = [1, 4, 3, 2]\n",
        "a.sort()\n",
        "a\n",
        "\n",
        "s = [\"a\", \"c\", \"b\"]\n",
        "s.sort()\n",
        "s"
      ],
      "execution_count": 0,
      "outputs": [
        {
          "output_type": "execute_result",
          "data": {
            "text/plain": [
              "['a', 'b', 'c']"
            ]
          },
          "metadata": {
            "tags": []
          },
          "execution_count": 51
        }
      ]
    },
    {
      "cell_type": "code",
      "metadata": {
        "id": "mYcaAJ_Lb2M9",
        "colab_type": "code",
        "outputId": "89964f7a-7730-4730-8110-e0d9a022264a",
        "colab": {
          "base_uri": "https://localhost:8080/",
          "height": 35
        }
      },
      "source": [
        "\n",
        "#\n",
        "# 리스트 뒤집기(reverse)\n",
        "#\n",
        "a = [\"a\", \"c\", \"b\"]\n",
        "a.reverse()\n",
        "a,a[::-1]"
      ],
      "execution_count": 0,
      "outputs": [
        {
          "output_type": "execute_result",
          "data": {
            "text/plain": [
              "(['b', 'c', 'a'], ['a', 'c', 'b'])"
            ]
          },
          "metadata": {
            "tags": []
          },
          "execution_count": 53
        }
      ]
    },
    {
      "cell_type": "code",
      "metadata": {
        "id": "v0Rvlf0Hb9eP",
        "colab_type": "code",
        "outputId": "57d95abd-4bd6-4fb0-946d-a4309046939f",
        "colab": {
          "base_uri": "https://localhost:8080/",
          "height": 244
        }
      },
      "source": [
        "#\n",
        "# 위치 반환(index)\n",
        "#\n",
        "a = [1, 2, 3]\n",
        "a.index(3)\n",
        "a.index(1)\n",
        "# a.index(0)\n",
        "\n",
        "# s = [\"a\", \"c\", \"b\"]\n",
        "# s.index(3)  # Error\n",
        "# s.index(a)  # Error\n",
        "# s.index(\"a\")"
      ],
      "execution_count": 0,
      "outputs": [
        {
          "output_type": "error",
          "ename": "ValueError",
          "evalue": "ignored",
          "traceback": [
            "\u001b[0;31m---------------------------------------------------------------------------\u001b[0m",
            "\u001b[0;31mValueError\u001b[0m                                Traceback (most recent call last)",
            "\u001b[0;32m<ipython-input-57-7f506193ed57>\u001b[0m in \u001b[0;36m<module>\u001b[0;34m()\u001b[0m\n\u001b[1;32m      2\u001b[0m \u001b[0ma\u001b[0m\u001b[0;34m.\u001b[0m\u001b[0mindex\u001b[0m\u001b[0;34m(\u001b[0m\u001b[0;36m3\u001b[0m\u001b[0;34m)\u001b[0m\u001b[0;34m\u001b[0m\u001b[0;34m\u001b[0m\u001b[0m\n\u001b[1;32m      3\u001b[0m \u001b[0ma\u001b[0m\u001b[0;34m.\u001b[0m\u001b[0mindex\u001b[0m\u001b[0;34m(\u001b[0m\u001b[0;36m1\u001b[0m\u001b[0;34m)\u001b[0m\u001b[0;34m\u001b[0m\u001b[0;34m\u001b[0m\u001b[0m\n\u001b[0;32m----> 4\u001b[0;31m \u001b[0ma\u001b[0m\u001b[0;34m.\u001b[0m\u001b[0mindex\u001b[0m\u001b[0;34m(\u001b[0m\u001b[0;36m0\u001b[0m\u001b[0;34m)\u001b[0m\u001b[0;34m\u001b[0m\u001b[0;34m\u001b[0m\u001b[0m\n\u001b[0m\u001b[1;32m      5\u001b[0m \u001b[0;34m\u001b[0m\u001b[0m\n\u001b[1;32m      6\u001b[0m \u001b[0;31m# s = [\"a\", \"c\", \"b\"]\u001b[0m\u001b[0;34m\u001b[0m\u001b[0;34m\u001b[0m\u001b[0;34m\u001b[0m\u001b[0m\n",
            "\u001b[0;31mValueError\u001b[0m: 0 is not in list"
          ]
        }
      ]
    },
    {
      "cell_type": "code",
      "metadata": {
        "id": "_uq7SJOMcGNG",
        "colab_type": "code",
        "outputId": "13da2a71-02b2-4e43-a9ee-3d027836fc0c",
        "colab": {
          "base_uri": "https://localhost:8080/",
          "height": 35
        }
      },
      "source": [
        "#\n",
        "# 리스트에 요소 삽입(insert)\n",
        "#\n",
        "a = [1, 2, 3]\n",
        "a.insert(0, 4) # 0번 인덱스에 값4를 넣으시오.\n",
        "a\n",
        "# a.insert(3, 5)\n",
        "# a"
      ],
      "execution_count": 0,
      "outputs": [
        {
          "output_type": "execute_result",
          "data": {
            "text/plain": [
              "[4, 1, 2, 3]"
            ]
          },
          "metadata": {
            "tags": []
          },
          "execution_count": 59
        }
      ]
    },
    {
      "cell_type": "code",
      "metadata": {
        "id": "MQq4uLkScVmS",
        "colab_type": "code",
        "colab": {}
      },
      "source": [
        "#\n",
        "# 리스트 요소 제거(remove)\n",
        "#\n",
        "a = [1, 2, 3, 1, 2, 3] # 중복값을 허용하는 데이터구조\n",
        "a.remove(3)\n",
        "a\n",
        "# 3을 리스트 a에서 완전히 제거\n",
        "a.remove(3)\n",
        "# a\n",
        "# a.remove(3)  # ValueError"
      ],
      "execution_count": 0,
      "outputs": []
    },
    {
      "cell_type": "code",
      "metadata": {
        "id": "MBppoxducnIs",
        "colab_type": "code",
        "outputId": "a060611c-4498-4361-8b05-1c8778b451be",
        "colab": {
          "base_uri": "https://localhost:8080/",
          "height": 35
        }
      },
      "source": [
        "a"
      ],
      "execution_count": 0,
      "outputs": [
        {
          "output_type": "execute_result",
          "data": {
            "text/plain": [
              "[1, 2, 1, 2]"
            ]
          },
          "metadata": {
            "tags": []
          },
          "execution_count": 64
        }
      ]
    },
    {
      "cell_type": "code",
      "metadata": {
        "id": "2IWhPZwDcq7q",
        "colab_type": "code",
        "outputId": "2f07eb44-8c4b-42c5-b5b1-46e7ac1e4dbd",
        "colab": {
          "base_uri": "https://localhost:8080/",
          "height": 35
        }
      },
      "source": [
        "#\n",
        "# 리스트 요소 끄집어내기(pop)\n",
        "#\n",
        "# 리스트의 수정과 삭제\n",
        "#\n",
        "a = [1, 2, 3]\n",
        "# pop()은 리스트의 맨 마지막 요소를 돌려주고 그 요소는 삭제한다.\n",
        "a.pop()\n",
        "a"
      ],
      "execution_count": 0,
      "outputs": [
        {
          "output_type": "execute_result",
          "data": {
            "text/plain": [
              "[1, 2]"
            ]
          },
          "metadata": {
            "tags": []
          },
          "execution_count": 66
        }
      ]
    },
    {
      "cell_type": "code",
      "metadata": {
        "id": "I3aYAHkkdCjE",
        "colab_type": "code",
        "outputId": "9aeae665-d7c9-4253-e37b-4391fcf69785",
        "colab": {
          "base_uri": "https://localhost:8080/",
          "height": 35
        }
      },
      "source": [
        "\n",
        "#\n",
        "a = [1, 2, 3]\n",
        "# pop(x)는 리스트의 index가 x인 요소를 돌려주고 그 요소는 삭제한다.\n",
        "r = a.pop(1)\n",
        "r, a\n",
        "# a.pop(2)  # IndexError"
      ],
      "execution_count": 0,
      "outputs": [
        {
          "output_type": "execute_result",
          "data": {
            "text/plain": [
              "(2, [1, 3])"
            ]
          },
          "metadata": {
            "tags": []
          },
          "execution_count": 68
        }
      ]
    },
    {
      "cell_type": "code",
      "metadata": {
        "id": "9xIiwIOddFUg",
        "colab_type": "code",
        "colab": {}
      },
      "source": [
        "#\n",
        "# 리스트에 포함된 요소 x의 개수 세기(count)\n",
        "#\n",
        "a = [1, 2, 3, 1]\n",
        "a.count(1)"
      ],
      "execution_count": 0,
      "outputs": []
    },
    {
      "cell_type": "code",
      "metadata": {
        "id": "9F_N1i0fdPog",
        "colab_type": "code",
        "outputId": "57ceaf70-1df8-494f-c01e-fc3854ecaf19",
        "colab": {
          "base_uri": "https://localhost:8080/",
          "height": 35
        }
      },
      "source": [
        "\n",
        "#\n",
        "# 리스트 확장(extend)\n",
        "#\n",
        "a = [1, 2, 3]\n",
        "a.extend([4, 5])\n",
        "a  # a.extend([4, 5])는 a += [4, 5]와 동일\n",
        "\n",
        "# b = [6, 7]\n",
        "# a.extend(b)\n",
        "# a\n"
      ],
      "execution_count": 0,
      "outputs": [
        {
          "output_type": "execute_result",
          "data": {
            "text/plain": [
              "[1, 2, 3, 4, 5]"
            ]
          },
          "metadata": {
            "tags": []
          },
          "execution_count": 69
        }
      ]
    },
    {
      "cell_type": "markdown",
      "metadata": {
        "id": "5YIY64tOdUMm",
        "colab_type": "text"
      },
      "source": [
        "### 튜블"
      ]
    },
    {
      "cell_type": "code",
      "metadata": {
        "id": "c7n7OHhEKnoM",
        "colab_type": "code",
        "colab": {}
      },
      "source": [
        "# ch2_06_tuple.py\n",
        "\n",
        "print(\"튜플: tuple 이란?\")\n",
        "# 리스트는 [ ]으로 둘러싸지만 튜플은 ( )으로 둘러싼다.\n",
        "# 리스트는 그 값의 생성, 삭제, 수정이 가능하지만 튜플은 그 값을 바꿀 수 없다.\n",
        "\n",
        "even = (2, 4, 6, 8)"
      ],
      "execution_count": 0,
      "outputs": []
    },
    {
      "cell_type": "code",
      "metadata": {
        "id": "hHw99DLVdaCs",
        "colab_type": "code",
        "colab": {}
      },
      "source": [
        "# 여러 가지 튜플\n",
        "t1 = ()  # 튜플 초기화\n",
        "t2 = (1,)\n",
        "t3 = (1, 2, 3)\n",
        "t4 = 1, 2, 3\n",
        "t5 = (\"a\", \"b\", (\"ab\", \"cd\"))\n",
        "# t2 = (1,)처럼 단지 1개의 요소만을 가질 때는 요소 뒤에\n",
        "# 콤마(,)를 반드시 붙여야 한다는 것과\n",
        "# t4 = 1, 2, 3처럼 괄호( )를 생략해도 무방하다."
      ],
      "execution_count": 0,
      "outputs": []
    },
    {
      "cell_type": "code",
      "metadata": {
        "id": "TXWP2cYKdh17",
        "colab_type": "code",
        "outputId": "9f6edb86-28f8-4bb8-9f10-9e9f9db93b05",
        "colab": {
          "base_uri": "https://localhost:8080/",
          "height": 35
        }
      },
      "source": [
        "t2n = (1)   #t2 = (1,)\n",
        "t2,t2n"
      ],
      "execution_count": 0,
      "outputs": [
        {
          "output_type": "execute_result",
          "data": {
            "text/plain": [
              "((1,), 1)"
            ]
          },
          "metadata": {
            "tags": []
          },
          "execution_count": 74
        }
      ]
    },
    {
      "cell_type": "code",
      "metadata": {
        "id": "S70z1DqoeH9X",
        "colab_type": "code",
        "outputId": "6ee38136-64a0-4028-a075-59da73423e0e",
        "colab": {
          "base_uri": "https://localhost:8080/",
          "height": 172
        }
      },
      "source": [
        "tpye(t2), tpye(t2n)"
      ],
      "execution_count": 0,
      "outputs": [
        {
          "output_type": "error",
          "ename": "NameError",
          "evalue": "ignored",
          "traceback": [
            "\u001b[0;31m---------------------------------------------------------------------------\u001b[0m",
            "\u001b[0;31mNameError\u001b[0m                                 Traceback (most recent call last)",
            "\u001b[0;32m<ipython-input-76-e39749543244>\u001b[0m in \u001b[0;36m<module>\u001b[0;34m()\u001b[0m\n\u001b[0;32m----> 1\u001b[0;31m \u001b[0mtpye\u001b[0m\u001b[0;34m(\u001b[0m\u001b[0mt2\u001b[0m\u001b[0;34m)\u001b[0m\u001b[0;34m,\u001b[0m \u001b[0mtpye\u001b[0m\u001b[0;34m(\u001b[0m\u001b[0mt2n\u001b[0m\u001b[0;34m)\u001b[0m\u001b[0;34m\u001b[0m\u001b[0;34m\u001b[0m\u001b[0m\n\u001b[0m",
            "\u001b[0;31mNameError\u001b[0m: name 'tpye' is not defined"
          ]
        }
      ]
    },
    {
      "cell_type": "markdown",
      "metadata": {
        "id": "1NvYhJWsjjTp",
        "colab_type": "text"
      },
      "source": [
        "###튜플의 요소값을 지우거나 변경"
      ]
    },
    {
      "cell_type": "code",
      "metadata": {
        "id": "9QBr7fNEddA1",
        "colab_type": "code",
        "colab": {
          "base_uri": "https://localhost:8080/",
          "height": 208
        },
        "outputId": "0a037e1c-a5d3-4e57-dabc-065215e2f860"
      },
      "source": [
        "#####################################################\n",
        "#\n",
        "# 튜플의 요소값을 지우거나 변경하려고 하면 어떻게 될까?\n",
        "#\n",
        "# 1. 튜플 요솟값을 삭제하려 할 때\n",
        "t1 = (1, 2, \"a\", \"b\")\n",
        "t1\n",
        "# del t1[0]  # Error\n",
        "#\n",
        "# 2. 튜플 요솟값을 변경하려 할 때\n",
        "#\n",
        "t1[0] = \"c\"  # TypeError"
      ],
      "execution_count": 2,
      "outputs": [
        {
          "output_type": "error",
          "ename": "TypeError",
          "evalue": "ignored",
          "traceback": [
            "\u001b[0;31m---------------------------------------------------------------------------\u001b[0m",
            "\u001b[0;31mTypeError\u001b[0m                                 Traceback (most recent call last)",
            "\u001b[0;32m<ipython-input-2-4ce80d7a38f4>\u001b[0m in \u001b[0;36m<module>\u001b[0;34m()\u001b[0m\n\u001b[1;32m      5\u001b[0m \u001b[0;31m# 2. 튜플 요솟값을 변경하려 할 때\u001b[0m\u001b[0;34m\u001b[0m\u001b[0;34m\u001b[0m\u001b[0;34m\u001b[0m\u001b[0m\n\u001b[1;32m      6\u001b[0m \u001b[0;31m#\u001b[0m\u001b[0;34m\u001b[0m\u001b[0;34m\u001b[0m\u001b[0;34m\u001b[0m\u001b[0m\n\u001b[0;32m----> 7\u001b[0;31m \u001b[0mt1\u001b[0m\u001b[0;34m[\u001b[0m\u001b[0;36m0\u001b[0m\u001b[0;34m]\u001b[0m \u001b[0;34m=\u001b[0m \u001b[0;34m\"c\"\u001b[0m  \u001b[0;31m# TypeError\u001b[0m\u001b[0;34m\u001b[0m\u001b[0;34m\u001b[0m\u001b[0m\n\u001b[0m",
            "\u001b[0;31mTypeError\u001b[0m: 'tuple' object does not support item assignment"
          ]
        }
      ]
    },
    {
      "cell_type": "markdown",
      "metadata": {
        "id": "NF8ixe2Uj_IU",
        "colab_type": "text"
      },
      "source": [
        "###튜플의인덱싱"
      ]
    },
    {
      "cell_type": "code",
      "metadata": {
        "id": "16BhGAi1jlxx",
        "colab_type": "code",
        "colab": {
          "base_uri": "https://localhost:8080/",
          "height": 53
        },
        "outputId": "2f979a71-bfb5-418f-8706-3f22e2e0f3c2"
      },
      "source": [
        "#\n",
        "#\n",
        "print(\"튜플: 사용방법\")\n",
        "#\n",
        "# 인덱싱하기\n",
        "#\n",
        "t1 = (1, 2, \"a\", \"b\")\n",
        "t1[0],t1[3]\n",
        "#\n",
        "# 슬라이싱하기\n",
        "#\n",
        "t1 = (1, 2, \"a\", \"b\")\n",
        "t1[1:]\n",
        "t1[2:-1]  # ('a',)\n",
        "t1[2:]"
      ],
      "execution_count": 4,
      "outputs": [
        {
          "output_type": "stream",
          "text": [
            "튜플: 사용방법\n"
          ],
          "name": "stdout"
        },
        {
          "output_type": "execute_result",
          "data": {
            "text/plain": [
              "('a',)"
            ]
          },
          "metadata": {
            "tags": []
          },
          "execution_count": 4
        }
      ]
    },
    {
      "cell_type": "code",
      "metadata": {
        "id": "wmE3-Te_kEsT",
        "colab_type": "code",
        "colab": {
          "base_uri": "https://localhost:8080/",
          "height": 35
        },
        "outputId": "bdce9a25-241e-4314-bf72-dbf0938722c2"
      },
      "source": [
        "# 튜플 더하기\n",
        "#\n",
        "t1 = (1, 2, \"a\", \"b\")\n",
        "t2 = (3, 4)\n",
        "t1 + t2\n",
        "#\n",
        "# 튜플 곱하기\n",
        "#\n",
        "t2 = (3, 4)\n",
        "id(t2)\n",
        "# t2 * 3\n",
        "# id(t2)\n",
        "# t2 = t2 * 3\n",
        "# id(t2)\n",
        "# #\n",
        "# # 튜플 길이 구하기\n",
        "# #\n",
        "# t1 = (1, 2, \"a\", \"b\")\n",
        "# len(t1)"
      ],
      "execution_count": 5,
      "outputs": [
        {
          "output_type": "execute_result",
          "data": {
            "text/plain": [
              "140650414694152"
            ]
          },
          "metadata": {
            "tags": []
          },
          "execution_count": 5
        }
      ]
    },
    {
      "cell_type": "code",
      "metadata": {
        "id": "Cu90ncklkc-c",
        "colab_type": "code",
        "colab": {
          "base_uri": "https://localhost:8080/",
          "height": 35
        },
        "outputId": "66f26676-4945-418b-aaa6-7539cd842133"
      },
      "source": [
        "a=1\n",
        "print(id(a))"
      ],
      "execution_count": 6,
      "outputs": [
        {
          "output_type": "stream",
          "text": [
            "10914496\n"
          ],
          "name": "stdout"
        }
      ]
    },
    {
      "cell_type": "code",
      "metadata": {
        "id": "g9m8TRbCKnoP",
        "colab_type": "code",
        "colab": {}
      },
      "source": [
        ""
      ],
      "execution_count": 0,
      "outputs": []
    }
  ]
}